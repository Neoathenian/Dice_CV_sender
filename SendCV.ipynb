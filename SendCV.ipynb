{
 "cells": [
  {
   "cell_type": "code",
   "execution_count": 34,
   "metadata": {},
   "outputs": [],
   "source": [
    "from pickle import TRUE\n",
    "from bs4 import BeautifulSoup as bs\n",
    "import requests\n",
    "from time import sleep\n",
    "from random import random\n",
    "from lxml import html\n",
    "from math import ceil\n",
    "from bs4 import BeautifulSoup\n",
    "import sys\n",
    "import pandas as pd\n",
    "\n",
    "#from selenium.webdriver.chrome import options\n",
    "from selenium.webdriver.chrome.options import Options\n",
    "from selenium import webdriver\n",
    "from selenium.webdriver.common.by import By\n",
    "from selenium.webdriver.support import expected_conditions as EC\n",
    "from selenium.webdriver.support.ui import WebDriverWait\n",
    "from selenium.webdriver.chrome.webdriver import WebDriver\n",
    "from selenium.webdriver.common.keys import Keys\n",
    "from selenium.webdriver.common.action_chains import ActionChains\n",
    "from selenium.common.exceptions import NoSuchElementException, StaleElementReferenceException,TimeoutException,ElementNotInteractableException\n",
    "from fake_useragent import UserAgent\n",
    "from selenium_stealth import stealth\n",
    "from selenium import webdriver\n",
    "from selenium.webdriver.chrome.service import Service\n",
    "from webdriver_manager.chrome import ChromeDriverManager\n",
    "import pyautogui\n"
   ]
  },
  {
   "cell_type": "code",
   "execution_count": 35,
   "metadata": {},
   "outputs": [],
   "source": [
    "def Descansa():\n",
    "    x=random()*10\n",
    "    if x<1:\n",
    "        sleep(1)\n",
    "    elif x>5:\n",
    "        sleep(5)\n",
    "    else:\n",
    "        sleep(x)\n",
    "    return"
   ]
  },
  {
   "cell_type": "code",
   "execution_count": 36,
   "metadata": {},
   "outputs": [],
   "source": [
    "Info_df=pd.read_csv(\"password.txt\",sep=\"\\t\").set_index(\"Info\")\n",
    "User=Info_df.at[\"User\",\"Value\"]\n",
    "Password=Info_df.at[\"Password\",\"Value\"]"
   ]
  },
  {
   "cell_type": "code",
   "execution_count": 37,
   "metadata": {},
   "outputs": [],
   "source": [
    "#Funcion necesaria para acceder shadow elements\n",
    "def expand_shadow_element(driver,element):\n",
    "  shadow_root = driver.execute_script('return arguments[0].shadowRoot', element)\n",
    "  return shadow_root"
   ]
  },
  {
   "cell_type": "code",
   "execution_count": 38,
   "metadata": {},
   "outputs": [],
   "source": [
    "def Iniciar_driver(url=\"https://www.dice.com/dashboard/login\"):\n",
    "    options = webdriver.ChromeOptions()\n",
    "    options.add_argument(\"start-maximized\")\n",
    "\n",
    "    # options.add_argument(\"--headless\")\n",
    "    ua = UserAgent()\n",
    "    userAgent = ua.random\n",
    "    options.add_argument(f'user-agent={userAgent}')\n",
    "\n",
    "    options.add_experimental_option(\"excludeSwitches\", [\"enable-automation\"])\n",
    "    options.add_experimental_option('useAutomationExtension', False)\n",
    "\n",
    "    #These options are for the autofill and for the popup to keep the password\n",
    "    prefs = {\"credentials_enable_service\": False,\"profile.password_manager_enabled\": False}\n",
    "    options.add_experimental_option(\"prefs\", prefs)\n",
    "\n",
    "    s=Service(ChromeDriverManager().install())\n",
    "    driver = webdriver.Chrome(options=options,service=s)\n",
    "    driver.get(url)\n",
    "    #Ahora aceptaremos las cookies (para ello necesitamos acceder al shadow element (un pain in the ass))\n",
    "    sleep(5)\n",
    "    root=WebDriverWait(driver,10).until(\n",
    "        EC.presence_of_element_located((By.ID,\"cmpwrapper\"))\n",
    "    )\n",
    "    shadow_root=expand_shadow_element(driver,root)\n",
    "    shadow_root.find_element(By.ID,\"cmpbntyestxt\").click()\n",
    "\n",
    "    #Safety measure if you try to access a non dice page\n",
    "    if url!=\"https://www.dice.com/dashboard/login\":\n",
    "        return driver\n",
    "    #Ahora metemos los datos de login\n",
    "    WebDriverWait(driver,10).until(\n",
    "        EC.presence_of_element_located((By.ID,\"email\"))\n",
    "    ).send_keys(User)\n",
    "\n",
    "    WebDriverWait(driver,10).until(\n",
    "        EC.presence_of_element_located((By.ID,\"password\"))\n",
    "    ).send_keys(Password)\n",
    "\n",
    "    WebDriverWait(driver,10).until(\n",
    "        EC.element_to_be_clickable((By.XPATH,'//button[@class=\"btn btn-primary btn-lg btn-block\"]'))\n",
    "    ).click()\n",
    "\n",
    "\n",
    "    WebDriverWait(driver,20).until(\n",
    "        EC.presence_of_element_located((By.XPATH,'//div[@class=\"fe-popup-cross\"]'))\n",
    "    )\n",
    "\n",
    "    WebDriverWait(driver,20).until(\n",
    "        EC.presence_of_element_located((By.XPATH,'//input[@id=\"typeaheadInput\"]'))\n",
    "    ).send_keys(\"python, Data scientist\\n\")\n",
    "\n",
    "    #Filtramos para solo remoto\n",
    "    WebDriverWait(driver,5).until(\n",
    "        EC.presence_of_element_located((By.XPATH,'//button[@aria-label=\"Filter Search Results by Remote Only\"]'))\n",
    "    ).click()\n",
    "    ####\n",
    "    #Tiene que esperar un rato para actualizar los trabajos\n",
    "    sleep(5)\n",
    "\n",
    "    return driver"
   ]
  },
  {
   "cell_type": "code",
   "execution_count": 39,
   "metadata": {},
   "outputs": [
    {
     "ename": "TimeoutException",
     "evalue": "Message: \nStacktrace:\nBacktrace:\n\tGetHandleVerifier [0x00762B63+47795]\n\t(No symbol) [0x006F67E1]\n\t(No symbol) [0x005FC7ED]\n\t(No symbol) [0x00629AC8]\n\t(No symbol) [0x00629B8B]\n\t(No symbol) [0x00658A82]\n\t(No symbol) [0x00644D14]\n\t(No symbol) [0x006571DA]\n\t(No symbol) [0x00644AC6]\n\t(No symbol) [0x006213D7]\n\t(No symbol) [0x0062255D]\n\tGetHandleVerifier [0x009B6F89+2490073]\n\tGetHandleVerifier [0x009FC361+2773681]\n\tGetHandleVerifier [0x009F6211+2748769]\n\tGetHandleVerifier [0x007E16B0+566784]\n\t(No symbol) [0x0070019A]\n\t(No symbol) [0x006FC418]\n\t(No symbol) [0x006FC4FB]\n\t(No symbol) [0x006EF317]\n\tBaseThreadInitThunk [0x74BE7D59+25]\n\tRtlInitializeExceptionChain [0x76F1B79B+107]\n\tRtlClearBits [0x76F1B71F+191]\n",
     "output_type": "error",
     "traceback": [
      "\u001b[1;31m---------------------------------------------------------------------------\u001b[0m",
      "\u001b[1;31mTimeoutException\u001b[0m                          Traceback (most recent call last)",
      "Cell \u001b[1;32mIn[39], line 1\u001b[0m\n\u001b[1;32m----> 1\u001b[0m driver\u001b[39m=\u001b[39mIniciar_driver()\n",
      "Cell \u001b[1;32mIn[38], line 45\u001b[0m, in \u001b[0;36mIniciar_driver\u001b[1;34m(url)\u001b[0m\n\u001b[0;32m     36\u001b[0m WebDriverWait(driver,\u001b[39m10\u001b[39m)\u001b[39m.\u001b[39muntil(\n\u001b[0;32m     37\u001b[0m     EC\u001b[39m.\u001b[39mpresence_of_element_located((By\u001b[39m.\u001b[39mID,\u001b[39m\"\u001b[39m\u001b[39mpassword\u001b[39m\u001b[39m\"\u001b[39m))\n\u001b[0;32m     38\u001b[0m )\u001b[39m.\u001b[39msend_keys(Password)\n\u001b[0;32m     40\u001b[0m WebDriverWait(driver,\u001b[39m10\u001b[39m)\u001b[39m.\u001b[39muntil(\n\u001b[0;32m     41\u001b[0m     EC\u001b[39m.\u001b[39melement_to_be_clickable((By\u001b[39m.\u001b[39mXPATH,\u001b[39m'\u001b[39m\u001b[39m//button[@class=\u001b[39m\u001b[39m\"\u001b[39m\u001b[39mbtn btn-primary btn-lg btn-block\u001b[39m\u001b[39m\"\u001b[39m\u001b[39m]\u001b[39m\u001b[39m'\u001b[39m))\n\u001b[0;32m     42\u001b[0m )\u001b[39m.\u001b[39mclick()\n\u001b[1;32m---> 45\u001b[0m WebDriverWait(driver,\u001b[39m20\u001b[39;49m)\u001b[39m.\u001b[39;49muntil(\n\u001b[0;32m     46\u001b[0m     EC\u001b[39m.\u001b[39;49mpresence_of_element_located((By\u001b[39m.\u001b[39;49mXPATH,\u001b[39m'\u001b[39;49m\u001b[39m//div[@class=\u001b[39;49m\u001b[39m\"\u001b[39;49m\u001b[39mfe-popup-cross\u001b[39;49m\u001b[39m\"\u001b[39;49m\u001b[39m]\u001b[39;49m\u001b[39m'\u001b[39;49m))\n\u001b[0;32m     47\u001b[0m )\n\u001b[0;32m     49\u001b[0m WebDriverWait(driver,\u001b[39m20\u001b[39m)\u001b[39m.\u001b[39muntil(\n\u001b[0;32m     50\u001b[0m     EC\u001b[39m.\u001b[39mpresence_of_element_located((By\u001b[39m.\u001b[39mXPATH,\u001b[39m'\u001b[39m\u001b[39m//input[@id=\u001b[39m\u001b[39m\"\u001b[39m\u001b[39mtypeaheadInput\u001b[39m\u001b[39m\"\u001b[39m\u001b[39m]\u001b[39m\u001b[39m'\u001b[39m))\n\u001b[0;32m     51\u001b[0m )\u001b[39m.\u001b[39msend_keys(\u001b[39m\"\u001b[39m\u001b[39mpython, Data scientist\u001b[39m\u001b[39m\\n\u001b[39;00m\u001b[39m\"\u001b[39m)\n\u001b[0;32m     53\u001b[0m \u001b[39m#Filtramos para solo remoto\u001b[39;00m\n",
      "File \u001b[1;32mc:\\Users\\Rafa\\miniconda3\\lib\\site-packages\\selenium\\webdriver\\support\\wait.py:95\u001b[0m, in \u001b[0;36mWebDriverWait.until\u001b[1;34m(self, method, message)\u001b[0m\n\u001b[0;32m     93\u001b[0m     \u001b[39mif\u001b[39;00m time\u001b[39m.\u001b[39mmonotonic() \u001b[39m>\u001b[39m end_time:\n\u001b[0;32m     94\u001b[0m         \u001b[39mbreak\u001b[39;00m\n\u001b[1;32m---> 95\u001b[0m \u001b[39mraise\u001b[39;00m TimeoutException(message, screen, stacktrace)\n",
      "\u001b[1;31mTimeoutException\u001b[0m: Message: \nStacktrace:\nBacktrace:\n\tGetHandleVerifier [0x00762B63+47795]\n\t(No symbol) [0x006F67E1]\n\t(No symbol) [0x005FC7ED]\n\t(No symbol) [0x00629AC8]\n\t(No symbol) [0x00629B8B]\n\t(No symbol) [0x00658A82]\n\t(No symbol) [0x00644D14]\n\t(No symbol) [0x006571DA]\n\t(No symbol) [0x00644AC6]\n\t(No symbol) [0x006213D7]\n\t(No symbol) [0x0062255D]\n\tGetHandleVerifier [0x009B6F89+2490073]\n\tGetHandleVerifier [0x009FC361+2773681]\n\tGetHandleVerifier [0x009F6211+2748769]\n\tGetHandleVerifier [0x007E16B0+566784]\n\t(No symbol) [0x0070019A]\n\t(No symbol) [0x006FC418]\n\t(No symbol) [0x006FC4FB]\n\t(No symbol) [0x006EF317]\n\tBaseThreadInitThunk [0x74BE7D59+25]\n\tRtlInitializeExceptionChain [0x76F1B79B+107]\n\tRtlClearBits [0x76F1B71F+191]\n"
     ]
    }
   ],
   "source": [
    "driver=Iniciar_driver()"
   ]
  },
  {
   "cell_type": "code",
   "execution_count": null,
   "metadata": {},
   "outputs": [],
   "source": []
  }
 ],
 "metadata": {
  "kernelspec": {
   "display_name": "base",
   "language": "python",
   "name": "python3"
  },
  "language_info": {
   "codemirror_mode": {
    "name": "ipython",
    "version": 3
   },
   "file_extension": ".py",
   "mimetype": "text/x-python",
   "name": "python",
   "nbconvert_exporter": "python",
   "pygments_lexer": "ipython3",
   "version": "3.10.9"
  },
  "orig_nbformat": 4
 },
 "nbformat": 4,
 "nbformat_minor": 2
}
