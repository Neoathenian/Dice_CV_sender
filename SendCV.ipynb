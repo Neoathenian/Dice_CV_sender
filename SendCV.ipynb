{
 "cells": [
  {
   "cell_type": "code",
   "execution_count": 2,
   "metadata": {},
   "outputs": [],
   "source": [
    "from SendCV import *"
   ]
  },
  {
   "cell_type": "code",
   "execution_count": 3,
   "metadata": {},
   "outputs": [],
   "source": [
    "driver= Iniciar_driver()"
   ]
  },
  {
   "cell_type": "code",
   "execution_count": 4,
   "metadata": {},
   "outputs": [
    {
     "name": "stdout",
     "output_type": "stream",
     "text": [
      "                                               puesto   posted_date  \\\n",
      "0   Sr. Data Scientist / ML Consultant with Health...     1 day ago   \n",
      "1                                      Data Scientist     1 day ago   \n",
      "2                                      Data Scientist    4 days ago   \n",
      "3                                      Data Scientist    8 days ago   \n",
      "4                               Senior Data Scientist    9 days ago   \n",
      "5                           Data Engineer (R, Python)   10 days ago   \n",
      "6               Python Developer (Data Visualization)   31 days ago   \n",
      "7   W2 Application Engineer(Exploratory Data Analy...    7 days ago   \n",
      "8   Sr. Data Scientist / NLP Analyst - Conversatio...    8 days ago   \n",
      "9                               Senior Data Scientist   11 days ago   \n",
      "10          Data Scientist - Training and Development   28 days ago   \n",
      "11     AI Team Lead (Data Scientist/Python Developer)   23 days ago   \n",
      "12                                 Data Scientist III   16 days ago   \n",
      "13  Data Scientist with experience in Deep learnin...   26 days ago   \n",
      "14                                     Data Scientist   18 days ago   \n",
      "15  Data Scientist and Manager-data analytics -- R...   12 days ago   \n",
      "16  Data Engineer | Database Developer with Python...   12 days ago   \n",
      "17                   Data Scientist / Gen-AI Engineer   24 days ago   \n",
      "18                            Data Scientist _ Remote   25 days ago   \n",
      "19        Data Analyst / Support (Azure, SQL, Python)   16 days ago   \n",
      "20                                     Data Scientist   16 days ago   \n",
      "21                              Remote Data Scientist   36 days ago   \n",
      "22                                     Data Scientist   33 days ago   \n",
      "23  Sr. Data Scientist (Ph.D) - Retail, CPG, Machi...   30 days ago   \n",
      "24  REMOTE Senior Data Engineer - Azure, Python, S...   18 days ago   \n",
      "25                                     Data Scientist   24 days ago   \n",
      "26                   Senior Associate, Data Scientist   38 days ago   \n",
      "27                              Remote Data Scientist   25 days ago   \n",
      "28                                     Data Scientist    3 days ago   \n",
      "29                           Data Analytics Scientist  60+ days ago   \n",
      "\n",
      "                            company                           location  \\\n",
      "0       Global It Solutions Usi Inc                             Remote   \n",
      "1                  cyberThink, Inc.                             Remote   \n",
      "2                      Popular Tech                             Remote   \n",
      "3                           Tential                             Remote   \n",
      "4         Gainwell Technologies LLC                             Remote   \n",
      "5                           Genzeon                             Remote   \n",
      "6             Infotree Service Inc.                             Remote   \n",
      "7                         RKMC Inc.                             Remote   \n",
      "8              Zillion Technologies                             Remote   \n",
      "9     Boston Technology Corporation                             Remote   \n",
      "10                             SAIC                             Remote   \n",
      "11                          Genzeon                             Remote   \n",
      "12                   Zappos.com LLC       Remote or Las Vegas, NV, USA   \n",
      "13                      Accion Labs                             Remote   \n",
      "14               KONNECTINGTREE INC                             Remote   \n",
      "15                Jade Biz Services                             Remote   \n",
      "16                      NearObjects  Remote or Ewing Township, NJ, USA   \n",
      "17              GSPANN Technologies                             Remote   \n",
      "18                    Surya Systems   Remote or San Francisco, CA, USA   \n",
      "19                     SYSCOM, Inc.                             Remote   \n",
      "20     Strategic Staffing Solutions       Remote or Charlotte, NC, USA   \n",
      "21      Meridian Technologies, Inc.                             Remote   \n",
      "22                       ITBMS Inc.                             Remote   \n",
      "23                   LingaTech, Inc                             Remote   \n",
      "24            Technology Navigators                             Remote   \n",
      "25                Parkar Consulting                             Remote   \n",
      "26  New York Life Insurance Company                             Remote   \n",
      "27                Sky Solutions LLC                             Remote   \n",
      "28   ZEN3 INFOSOLUTIONS AMERICA INC                             Remote   \n",
      "29           Brains Workgroup, Inc.                             Remote   \n",
      "\n",
      "          employment_type                                               href  \n",
      "0   Contract, Third Party  https://www.dice.com/job-detail/ae8464ca-d772-...  \n",
      "1   Contract, Third Party  https://www.dice.com/job-detail/55930b88-ba97-...  \n",
      "2                Contract  https://www.dice.com/job-detail/30780c3d-b4bb-...  \n",
      "3   Contract, Third Party  https://www.dice.com/job-detail/96514f41-21a7-...  \n",
      "4               Full-time  https://www.dice.com/job-detail/1d0f400d-2729-...  \n",
      "5               Full-time  https://www.dice.com/job-detail/6c2bb3c1-3f45-...  \n",
      "6                Contract  https://www.dice.com/job-detail/ec8560a3-d78c-...  \n",
      "7               Full-time  https://www.dice.com/job-detail/a270f92a-ed0f-...  \n",
      "8                Contract  https://www.dice.com/job-detail/0cbd0b65-f8b9-...  \n",
      "9                Contract  https://www.dice.com/job-detail/ad632fb5-627f-...  \n",
      "10              Full-time  https://www.dice.com/job-detail/c00ea480-d395-...  \n",
      "11  Contract, Third Party  https://www.dice.com/job-detail/48f27a86-7117-...  \n",
      "12              Full-time  https://www.dice.com/job-detail/1e8ed616-ff31-...  \n",
      "13            Third Party  https://www.dice.com/job-detail/ccc39c8d-293e-...  \n",
      "14              Full-time  https://www.dice.com/job-detail/5a845100-5185-...  \n",
      "15              Full-time  https://www.dice.com/job-detail/73081ff4-b7c5-...  \n",
      "16               Contract  https://www.dice.com/job-detail/b77d6790-1a26-...  \n",
      "17  Contract, Third Party  https://www.dice.com/job-detail/a22b003f-1068-...  \n",
      "18  Third Party, Contract  https://www.dice.com/job-detail/f8ddefe1-a301-...  \n",
      "19              Full-time  https://www.dice.com/job-detail/6ac242de-79fa-...  \n",
      "20               Contract  https://www.dice.com/job-detail/5cc081fb-8d25-...  \n",
      "21               Contract  https://www.dice.com/job-detail/a44e9865-57b4-...  \n",
      "22               Contract  https://www.dice.com/job-detail/dcb8b858-da95-...  \n",
      "23  Contract, Third Party  https://www.dice.com/job-detail/075a1509-476d-...  \n",
      "24              Full-time  https://www.dice.com/job-detail/03092d66-337a-...  \n",
      "25               Contract  https://www.dice.com/job-detail/f68f612f-3995-...  \n",
      "26              Full-time  https://www.dice.com/job-detail/38379dc5-8112-...  \n",
      "27              Full-time  https://www.dice.com/job-detail/952da873-2dd6-...  \n",
      "28              Full-time  https://www.dice.com/job-detail/3d4a7fff-04b2-...  \n",
      "29              Full-time  https://www.dice.com/job-detail/b9fbc2bb-0f79-...  \n"
     ]
    }
   ],
   "source": [
    "Actualizar_links(driver)"
   ]
  },
  {
   "cell_type": "code",
   "execution_count": 11,
   "metadata": {},
   "outputs": [
    {
     "name": "stdout",
     "output_type": "stream",
     "text": [
      "                                               puesto  posted_date  \\\n",
      "0                                       Data Engineer   3 days ago   \n",
      "1                              Sr Azure Data Engineer   2 days ago   \n",
      "2                         Sr. Snowflake Data Engineer   2 days ago   \n",
      "3                  Snowflake Data Architect (Only W2)   2 days ago   \n",
      "4                                 Azure Data Engineer   3 days ago   \n",
      "5     Data Lakes Engineer || GLEN ALLEN, VA || Remote  17 days ago   \n",
      "6           Data Architect (Azure Cognitive Services)   3 days ago   \n",
      "7                                Senior Data Engineer  15 days ago   \n",
      "8                              Sr. Database Architect    1 day ago   \n",
      "9   12+ Years of IT Exp. || Remote Position || Loo...  24 days ago   \n",
      "10        Senior Data Engineer, 100% Remote 12 Months  29 days ago   \n",
      "11  Full Time - Remote Job Opportunity - System An...   6 days ago   \n",
      "12                             Customer Data Engineer  12 days ago   \n",
      "13                                  Sr. Data Engineer   3 days ago   \n",
      "14                                  Sr. Data Engineer  17 days ago   \n",
      "15                  Business Analyst (Life Insurance)   8 days ago   \n",
      "16         Principal Marketing Analytics (Healthcare)   2 days ago   \n",
      "17                        Senior Databricks Architect  10 days ago   \n",
      "18                              Sr Data Product Owner  17 days ago   \n",
      "19               Sr. Lead Data Engineer - Remote - W2   2 days ago   \n",
      "20                           Python Software Engineer   4 days ago   \n",
      "21      ETL Developer/Data Engineer ***Remote Work***    1 day ago   \n",
      "22                               Senior Data Engineer   3 days ago   \n",
      "23                                Filemaker Developer  26 days ago   \n",
      "24               Senior AWS Data Engineer - Snowflake  22 days ago   \n",
      "25                             Insider Threat Analyst    1 day ago   \n",
      "26                     GIS Data Manager/Administrator  12 days ago   \n",
      "27            8525 - Senior Machine Learning Engineer  22 days ago   \n",
      "28  Business Systems Analyst (Life Insurance Domai...   8 days ago   \n",
      "29                       SQL ETL Developer with Azure  15 days ago   \n",
      "30                          Quality Assurance Analyst  26 days ago   \n",
      "31  Senior Azure Cloud Engineer with Pharma/BioSci...    1 day ago   \n",
      "32       Data Engineer I-Houston, TX (Remote)-W2 role  54 days ago   \n",
      "33               Fully Remote Healthcare Data Analyst  45 days ago   \n",
      "34                                      Data Engineer  10 days ago   \n",
      "35                           Senior Analytics Manager   2 days ago   \n",
      "36                                  AWS app developer   2 days ago   \n",
      "37                 Mid-level Business Systems Analyst    1 day ago   \n",
      "38                               Senior Data Engineer  16 days ago   \n",
      "39                        AWS Data Engineer/Architect  22 days ago   \n",
      "\n",
      "                             company                        location  \\\n",
      "0                   SBS Creatix, LLC                          Remote   \n",
      "1         Blue Rose Technologies LLC                          Remote   \n",
      "2                     IT Convergence                          Remote   \n",
      "3                    InfoObjects Inc                          Remote   \n",
      "4              Prime Solutions, Inc.                          Remote   \n",
      "5           Interra Information Tech                          Remote   \n",
      "6               VISION INFOTECH INC.      Remote or Atlanta, GA, USA   \n",
      "7   Phoenix Technology Partners, LLC                          Remote   \n",
      "8                       Vastika Inc.                          Remote   \n",
      "9                         SanKar Inc                          Remote   \n",
      "10          ZEDVentures Incorporated                          Remote   \n",
      "11           Donato Technologies Inc                          Remote   \n",
      "12          Inspire Recruitment Inc.                          Remote   \n",
      "13                     StevenDouglas                          Remote   \n",
      "14                      MHK TECH INC      Remote or Houston, TX, USA   \n",
      "15                           Ionidea                          Remote   \n",
      "16          Everest Consultants, Inc       Remote or Renton, WA, USA   \n",
      "17               Satsyil Corporation       Remote or Tysons, VA, USA   \n",
      "18           Moorecroft Systems Inc.  Remote or Los Angeles, CA, USA   \n",
      "19                 CLIECON SOLUTIONS                          Remote   \n",
      "20           Trident Consulting Inc.                          Remote   \n",
      "21             Dolphin Solutions Inc                          Remote   \n",
      "22                   Enterprise Peak                          Remote   \n",
      "23          Flexon Technologies Inc.                          Remote   \n",
      "24             Sunrise Systems, Inc.     Remote or Hartford, CT, USA   \n",
      "25                            Leidos                          Remote   \n",
      "26        InfoSmart Technologies Inc                          Remote   \n",
      "27         Interactive Resources LLC                          Remote   \n",
      "28                   Ztek Consulting                          Remote   \n",
      "29                       iSpace, Inc                          Remote   \n",
      "30      U.S. Senate Sergeant at Arms                          Remote   \n",
      "31       Global It Solutions Usi Inc                          Remote   \n",
      "32                 Jade Biz Services      Remote or Houston, TX, USA   \n",
      "33                     ReqRoute, Inc                          Remote   \n",
      "34         Saigan Technologies, Inc.                          Remote   \n",
      "35                  Oscar Technology                          Remote   \n",
      "36                     Fusion IT Inc                          Remote   \n",
      "37              Govenky Infotech Inc                          Remote   \n",
      "38      Precision System Design Inc.    Remote or Cleveland, OH, USA   \n",
      "39                Allwyn Corporation                          Remote   \n",
      "\n",
      "          employment_type                                               href  \n",
      "0                Contract  https://www.dice.com/job-detail/7a8c9807-4160-...  \n",
      "1   Contract, Third Party  https://www.dice.com/job-detail/89fbfe46-b472-...  \n",
      "2                Contract  https://www.dice.com/job-detail/aceaec0f-ccdd-...  \n",
      "3                Contract  https://www.dice.com/job-detail/a88969a1-c859-...  \n",
      "4                Contract  https://www.dice.com/job-detail/7c7cca1e-7c05-...  \n",
      "5               Full-time  https://www.dice.com/job-detail/3fe9961b-4dfd-...  \n",
      "6   Third Party, Contract  https://www.dice.com/job-detail/0390fcf0-3c44-...  \n",
      "7                Contract  https://www.dice.com/job-detail/933f1d6b-b361-...  \n",
      "8               Full-time  https://www.dice.com/job-detail/768f7510-8196-...  \n",
      "9   Contract, Third Party  https://www.dice.com/job-detail/43ef3b48-8f46-...  \n",
      "10  Contract, Third Party  https://www.dice.com/job-detail/ec8028b8-33ff-...  \n",
      "11              Full-time  https://www.dice.com/job-detail/1af0aaab-365b-...  \n",
      "12              Full-time  https://www.dice.com/job-detail/cd2099bd-d61a-...  \n",
      "13              Full-time  https://www.dice.com/job-detail/bc32c20b-7147-...  \n",
      "14               Contract  https://www.dice.com/job-detail/7148cb18-66b4-...  \n",
      "15               Contract  https://www.dice.com/job-detail/13de800e-c951-...  \n",
      "16              Full-time  https://www.dice.com/job-detail/e88664f7-7f1d-...  \n",
      "17              Full-time  https://www.dice.com/job-detail/79a61cc4-c28d-...  \n",
      "18               Contract  https://www.dice.com/job-detail/c6493edf-c69d-...  \n",
      "19               Contract  https://www.dice.com/job-detail/4d7350aa-34f3-...  \n",
      "20  Contract, Third Party  https://www.dice.com/job-detail/bc46ebcd-9b38-...  \n",
      "21               Contract  https://www.dice.com/job-detail/a10fd97c-eb07-...  \n",
      "22               Contract  https://www.dice.com/job-detail/060d3d06-093b-...  \n",
      "23  Contract, Third Party  https://www.dice.com/job-detail/8ae96214-816e-...  \n",
      "24               Contract  https://www.dice.com/job-detail/1bb57c0b-f605-...  \n",
      "25              Full-time  https://www.dice.com/job-detail/548eb01b-6b3e-...  \n",
      "26  Contract, Third Party  https://www.dice.com/job-detail/3ba9b2cf-ecde-...  \n",
      "27              Full-time  https://www.dice.com/job-detail/913e84d0-0bfa-...  \n",
      "28               Contract  https://www.dice.com/job-detail/7ae5fdb3-8a87-...  \n",
      "29              Full-time  https://www.dice.com/job-detail/55245dc9-806d-...  \n",
      "30              Full-time  https://www.dice.com/job-detail/badde6dc-69c5-...  \n",
      "31  Contract, Third Party  https://www.dice.com/job-detail/5e7ce3fd-d66a-...  \n",
      "32               Contract  https://www.dice.com/job-detail/c6621b82-71e3-...  \n",
      "33              Full-time  https://www.dice.com/job-detail/f0b2511a-55ff-...  \n",
      "34               Contract  https://www.dice.com/job-detail/2645f378-a82c-...  \n",
      "35              Full-time  https://www.dice.com/job-detail/2e14b9d0-bd8f-...  \n",
      "36               Contract  https://www.dice.com/job-detail/7f20863f-57bd-...  \n",
      "37            Third Party  https://www.dice.com/job-detail/7965e00a-62f7-...  \n",
      "38               Contract  https://www.dice.com/job-detail/9b3fc95b-b591-...  \n",
      "39  Contract, Third Party  https://www.dice.com/job-detail/3ead8c74-5243-...  \n",
      "https://www.dice.com/job-detail/7a8c9807-4160-475e-87e4-ebd79e4bbd6c?searchlink=search%2F%3Fq%3Dpython%2C%2520Data%2520scientist%26countryCode%3DUS%26radius%3D30%26radiusUnit%3Dmi%26page%3D4%26pageSize%3D20%26filters.isRemote%3Dtrue%26language%3Den%26eid%3DS2Q_&searchId=72c58d2f-e367-42c6-9ff8-716357ec7add\n",
      "Trying to apply to job\n",
      "https://www.dice.com/job-detail/89fbfe46-b472-43d6-9477-cba1b9c00c73?searchlink=search%2F%3Fq%3Dpython%2C%2520Data%2520scientist%26countryCode%3DUS%26radius%3D30%26radiusUnit%3Dmi%26page%3D4%26pageSize%3D20%26filters.isRemote%3Dtrue%26language%3Den%26eid%3DS2Q_&searchId=72c58d2f-e367-42c6-9ff8-716357ec7add\n",
      "Trying to apply to job\n",
      "https://www.dice.com/job-detail/aceaec0f-ccdd-4956-a225-e10d5278bb12?searchlink=search%2F%3Fq%3Dpython%2C%2520Data%2520scientist%26countryCode%3DUS%26radius%3D30%26radiusUnit%3Dmi%26page%3D4%26pageSize%3D20%26filters.isRemote%3Dtrue%26language%3Den%26eid%3DS2Q_&searchId=72c58d2f-e367-42c6-9ff8-716357ec7add\n",
      "Trying to apply to job\n",
      "https://www.dice.com/job-detail/a88969a1-c859-4c18-b01b-da49fcce0a93?searchlink=search%2F%3Fq%3Dpython%2C%2520Data%2520scientist%26countryCode%3DUS%26radius%3D30%26radiusUnit%3Dmi%26page%3D4%26pageSize%3D20%26filters.isRemote%3Dtrue%26language%3Den%26eid%3DS2Q_&searchId=72c58d2f-e367-42c6-9ff8-716357ec7add\n",
      "Trying to apply to job\n",
      "Application Questions\n",
      "What is your visa status?\n",
      "Current location ?\n",
      "Expected hourly Rate ?\n",
      "Please share your contact info (email & phone)\n",
      "Your Top 5 Skills/Technologies relevant to this position\n",
      "Please share your LinkedIn Profile Link\n",
      "Please share your portfolio/github/personal website link\n",
      "https://www.dice.com/job-detail/7c7cca1e-7c05-4151-a6c7-ab1cf581db97?searchlink=search%2F%3Fq%3Dpython%2C%2520Data%2520scientist%26countryCode%3DUS%26radius%3D30%26radiusUnit%3Dmi%26page%3D4%26pageSize%3D20%26filters.isRemote%3Dtrue%26language%3Den%26eid%3DS2Q_&searchId=72c58d2f-e367-42c6-9ff8-716357ec7add\n",
      "Trying to apply to job\n",
      "https://www.dice.com/job-detail/3fe9961b-4dfd-4cd4-9b3d-c2ca07f2caec?searchlink=search%2F%3Fq%3Dpython%2C%2520Data%2520scientist%26countryCode%3DUS%26radius%3D30%26radiusUnit%3Dmi%26page%3D4%26pageSize%3D20%26filters.isRemote%3Dtrue%26language%3Den%26eid%3DS2Q_&searchId=72c58d2f-e367-42c6-9ff8-716357ec7add\n",
      "Trying to apply to job\n",
      "https://www.dice.com/job-detail/0390fcf0-3c44-4ad8-8a53-fcf62d02a97d?searchlink=search%2F%3Fq%3Dpython%2C%2520Data%2520scientist%26countryCode%3DUS%26radius%3D30%26radiusUnit%3Dmi%26page%3D4%26pageSize%3D20%26filters.isRemote%3Dtrue%26language%3Den%26eid%3DS2Q_&searchId=72c58d2f-e367-42c6-9ff8-716357ec7add\n",
      "Trying to apply to job\n",
      "https://www.dice.com/job-detail/933f1d6b-b361-41af-b673-dd8104a68e6f?searchlink=search%2F%3Fq%3Dpython%2C%2520Data%2520scientist%26countryCode%3DUS%26radius%3D30%26radiusUnit%3Dmi%26page%3D4%26pageSize%3D20%26filters.isRemote%3Dtrue%26language%3Den%26eid%3DS2Q_&searchId=72c58d2f-e367-42c6-9ff8-716357ec7add\n",
      "Trying to apply to job\n",
      "https://www.dice.com/job-detail/768f7510-8196-487e-9a96-2b3ac7afd493?searchlink=search%2F%3Fq%3Dpython%2C%2520Data%2520scientist%26countryCode%3DUS%26radius%3D30%26radiusUnit%3Dmi%26page%3D4%26pageSize%3D20%26filters.isRemote%3Dtrue%26language%3Den%26eid%3DS2Q_&searchId=72c58d2f-e367-42c6-9ff8-716357ec7add\n",
      "Trying to apply to job\n",
      "https://www.dice.com/job-detail/43ef3b48-8f46-4715-a029-4523b33e9cb7?searchlink=search%2F%3Fq%3Dpython%2C%2520Data%2520scientist%26countryCode%3DUS%26radius%3D30%26radiusUnit%3Dmi%26page%3D4%26pageSize%3D20%26filters.isRemote%3Dtrue%26language%3Den%26eid%3DS2Q_&searchId=72c58d2f-e367-42c6-9ff8-716357ec7add\n",
      "Trying to apply to job\n",
      "https://www.dice.com/job-detail/ec8028b8-33ff-46bc-bf84-ac9eed9fac43?searchlink=search%2F%3Fq%3Dpython%2C%2520Data%2520scientist%26countryCode%3DUS%26radius%3D30%26radiusUnit%3Dmi%26page%3D4%26pageSize%3D20%26filters.isRemote%3Dtrue%26language%3Den%26eid%3DS2Q_&searchId=72c58d2f-e367-42c6-9ff8-716357ec7add\n",
      "Trying to apply to job\n",
      "https://www.dice.com/job-detail/1af0aaab-365b-4a6e-a4f8-d04322fb812c?searchlink=search%2F%3Fq%3Dpython%2C%2520Data%2520scientist%26countryCode%3DUS%26radius%3D30%26radiusUnit%3Dmi%26page%3D4%26pageSize%3D20%26filters.isRemote%3Dtrue%26language%3Den%26eid%3DS2Q_&searchId=72c58d2f-e367-42c6-9ff8-716357ec7add\n",
      "Trying to apply to job\n",
      "https://www.dice.com/job-detail/cd2099bd-d61a-4bad-9d41-f5f3de2eb9e7?searchlink=search%2F%3Fq%3Dpython%2C%2520Data%2520scientist%26countryCode%3DUS%26radius%3D30%26radiusUnit%3Dmi%26page%3D4%26pageSize%3D20%26filters.isRemote%3Dtrue%26language%3Den%26eid%3DS2Q_&searchId=72c58d2f-e367-42c6-9ff8-716357ec7add\n",
      "Trying to apply to job\n",
      "Not Easy Apply\n",
      "https://www.dice.com/job-detail/bc32c20b-7147-4762-875a-6c98a0b4fd5f?searchlink=search%2F%3Fq%3Dpython%2C%2520Data%2520scientist%26countryCode%3DUS%26radius%3D30%26radiusUnit%3Dmi%26page%3D4%26pageSize%3D20%26filters.isRemote%3Dtrue%26language%3Den%26eid%3DS2Q_&searchId=72c58d2f-e367-42c6-9ff8-716357ec7add\n",
      "Trying to apply to job\n",
      "https://www.dice.com/job-detail/7148cb18-66b4-4cf0-af0d-893a84919ce3?searchlink=search%2F%3Fq%3Dpython%2C%2520Data%2520scientist%26countryCode%3DUS%26radius%3D30%26radiusUnit%3Dmi%26page%3D4%26pageSize%3D20%26filters.isRemote%3Dtrue%26language%3Den%26eid%3DS2Q_&searchId=72c58d2f-e367-42c6-9ff8-716357ec7add\n",
      "Trying to apply to job\n",
      "https://www.dice.com/job-detail/13de800e-c951-4378-82e4-c3b2c1e96fb8?searchlink=search%2F%3Fq%3Dpython%2C%2520Data%2520scientist%26countryCode%3DUS%26radius%3D30%26radiusUnit%3Dmi%26page%3D4%26pageSize%3D20%26filters.isRemote%3Dtrue%26language%3Den%26eid%3DS2Q_&searchId=72c58d2f-e367-42c6-9ff8-716357ec7add\n",
      "Trying to apply to job\n",
      "https://www.dice.com/job-detail/e88664f7-7f1d-401e-b294-715884a8923e?searchlink=search%2F%3Fq%3Dpython%2C%2520Data%2520scientist%26countryCode%3DUS%26radius%3D30%26radiusUnit%3Dmi%26page%3D4%26pageSize%3D20%26filters.isRemote%3Dtrue%26language%3Den%26eid%3DS2Q_&searchId=72c58d2f-e367-42c6-9ff8-716357ec7add\n",
      "Trying to apply to job\n",
      "https://www.dice.com/job-detail/79a61cc4-c28d-4e10-a3f4-7503bdd6b3c2?searchlink=search%2F%3Fq%3Dpython%2C%2520Data%2520scientist%26countryCode%3DUS%26radius%3D30%26radiusUnit%3Dmi%26page%3D4%26pageSize%3D20%26filters.isRemote%3Dtrue%26language%3Den%26eid%3DS2Q_&searchId=72c58d2f-e367-42c6-9ff8-716357ec7add\n",
      "Trying to apply to job\n",
      "https://www.dice.com/job-detail/c6493edf-c69d-4528-9e9d-43c5ceafe174?searchlink=search%2F%3Fq%3Dpython%2C%2520Data%2520scientist%26countryCode%3DUS%26radius%3D30%26radiusUnit%3Dmi%26page%3D4%26pageSize%3D20%26filters.isRemote%3Dtrue%26language%3Den%26eid%3DS2Q_&searchId=72c58d2f-e367-42c6-9ff8-716357ec7add\n",
      "Trying to apply to job\n",
      "https://www.dice.com/job-detail/4d7350aa-34f3-47de-ab09-42345e40710f?searchlink=search%2F%3Fq%3Dpython%2C%2520Data%2520scientist%26countryCode%3DUS%26radius%3D30%26radiusUnit%3Dmi%26page%3D4%26pageSize%3D20%26filters.isRemote%3Dtrue%26language%3Den%26eid%3DS2Q_&searchId=72c58d2f-e367-42c6-9ff8-716357ec7add\n",
      "Trying to apply to job\n",
      "https://www.dice.com/job-detail/bc46ebcd-9b38-4ce9-8c30-1477532f3a02?searchlink=search%2F%3Fq%3Dpython%2C%2520Data%2520scientist%26countryCode%3DUS%26radius%3D30%26radiusUnit%3Dmi%26page%3D5%26pageSize%3D20%26filters.isRemote%3Dtrue%26language%3Den%26eid%3DS2Q_&searchId=72c58d2f-e367-42c6-9ff8-716357ec7add\n",
      "Trying to apply to job\n",
      "https://www.dice.com/job-detail/a10fd97c-eb07-4e65-aff9-7300935fc7f8?searchlink=search%2F%3Fq%3Dpython%2C%2520Data%2520scientist%26countryCode%3DUS%26radius%3D30%26radiusUnit%3Dmi%26page%3D5%26pageSize%3D20%26filters.isRemote%3Dtrue%26language%3Den%26eid%3DS2Q_&searchId=72c58d2f-e367-42c6-9ff8-716357ec7add\n",
      "Trying to apply to job\n",
      "https://www.dice.com/job-detail/060d3d06-093b-4c83-856f-586cf6fd0e30?searchlink=search%2F%3Fq%3Dpython%2C%2520Data%2520scientist%26countryCode%3DUS%26radius%3D30%26radiusUnit%3Dmi%26page%3D5%26pageSize%3D20%26filters.isRemote%3Dtrue%26language%3Den%26eid%3DS2Q_&searchId=72c58d2f-e367-42c6-9ff8-716357ec7add\n",
      "Trying to apply to job\n",
      "Application Questions\n",
      "Yes\n",
      "No\n",
      "https://www.dice.com/job-detail/8ae96214-816e-463c-b728-4e48933cb4ec?searchlink=search%2F%3Fq%3Dpython%2C%2520Data%2520scientist%26countryCode%3DUS%26radius%3D30%26radiusUnit%3Dmi%26page%3D5%26pageSize%3D20%26filters.isRemote%3Dtrue%26language%3Den%26eid%3DS2Q_&searchId=72c58d2f-e367-42c6-9ff8-716357ec7add\n",
      "Trying to apply to job\n",
      "https://www.dice.com/job-detail/1bb57c0b-f605-4010-b850-b7b3985b905b?searchlink=search%2F%3Fq%3Dpython%2C%2520Data%2520scientist%26countryCode%3DUS%26radius%3D30%26radiusUnit%3Dmi%26page%3D5%26pageSize%3D20%26filters.isRemote%3Dtrue%26language%3Den%26eid%3DS2Q_&searchId=72c58d2f-e367-42c6-9ff8-716357ec7add\n",
      "Trying to apply to job\n",
      "Application Questions\n",
      "How many years of experience do you have with Amazon Web Services for Data Engineering needs?\n",
      "How many years of data integration experience you hold using snowflake?\n",
      "https://www.dice.com/job-detail/548eb01b-6b3e-42ee-b4fe-fb54b83a1a80?searchlink=search%2F%3Fq%3Dpython%2C%2520Data%2520scientist%26countryCode%3DUS%26radius%3D30%26radiusUnit%3Dmi%26page%3D5%26pageSize%3D20%26filters.isRemote%3Dtrue%26language%3Den%26eid%3DS2Q_&searchId=72c58d2f-e367-42c6-9ff8-716357ec7add\n",
      "Trying to apply to job\n",
      "Not Easy Apply\n",
      "https://www.dice.com/job-detail/3ba9b2cf-ecde-49ca-a560-3a6a75226720?searchlink=search%2F%3Fq%3Dpython%2C%2520Data%2520scientist%26countryCode%3DUS%26radius%3D30%26radiusUnit%3Dmi%26page%3D5%26pageSize%3D20%26filters.isRemote%3Dtrue%26language%3Den%26eid%3DS2Q_&searchId=72c58d2f-e367-42c6-9ff8-716357ec7add\n",
      "Trying to apply to job\n",
      "https://www.dice.com/job-detail/913e84d0-0bfa-45f5-b3d8-4be8776f18bf?searchlink=search%2F%3Fq%3Dpython%2C%2520Data%2520scientist%26countryCode%3DUS%26radius%3D30%26radiusUnit%3Dmi%26page%3D5%26pageSize%3D20%26filters.isRemote%3Dtrue%26language%3Den%26eid%3DS2Q_&searchId=72c58d2f-e367-42c6-9ff8-716357ec7add\n",
      "Trying to apply to job\n",
      "https://www.dice.com/job-detail/7ae5fdb3-8a87-4084-a8ee-1e420d856e92?searchlink=search%2F%3Fq%3Dpython%2C%2520Data%2520scientist%26countryCode%3DUS%26radius%3D30%26radiusUnit%3Dmi%26page%3D5%26pageSize%3D20%26filters.isRemote%3Dtrue%26language%3Den%26eid%3DS2Q_&searchId=72c58d2f-e367-42c6-9ff8-716357ec7add\n",
      "Trying to apply to job\n",
      "https://www.dice.com/job-detail/55245dc9-806d-4036-b61b-8ece084b17ca?searchlink=search%2F%3Fq%3Dpython%2C%2520Data%2520scientist%26countryCode%3DUS%26radius%3D30%26radiusUnit%3Dmi%26page%3D5%26pageSize%3D20%26filters.isRemote%3Dtrue%26language%3Den%26eid%3DS2Q_&searchId=72c58d2f-e367-42c6-9ff8-716357ec7add\n",
      "Trying to apply to job\n",
      "https://www.dice.com/job-detail/badde6dc-69c5-4fec-a253-18c64bcf397d?searchlink=search%2F%3Fq%3Dpython%2C%2520Data%2520scientist%26countryCode%3DUS%26radius%3D30%26radiusUnit%3Dmi%26page%3D5%26pageSize%3D20%26filters.isRemote%3Dtrue%26language%3Den%26eid%3DS2Q_&searchId=72c58d2f-e367-42c6-9ff8-716357ec7add\n",
      "Trying to apply to job\n",
      "Not Easy Apply\n",
      "https://www.dice.com/job-detail/5e7ce3fd-d66a-4f47-899f-a390933fac44?searchlink=search%2F%3Fq%3Dpython%2C%2520Data%2520scientist%26countryCode%3DUS%26radius%3D30%26radiusUnit%3Dmi%26page%3D5%26pageSize%3D20%26filters.isRemote%3Dtrue%26language%3Den%26eid%3DS2Q_&searchId=72c58d2f-e367-42c6-9ff8-716357ec7add\n",
      "Trying to apply to job\n",
      "https://www.dice.com/job-detail/c6621b82-71e3-4acf-8c78-aabf7acd997b?searchlink=search%2F%3Fq%3Dpython%2C%2520Data%2520scientist%26countryCode%3DUS%26radius%3D30%26radiusUnit%3Dmi%26page%3D5%26pageSize%3D20%26filters.isRemote%3Dtrue%26language%3Den%26eid%3DS2Q_&searchId=72c58d2f-e367-42c6-9ff8-716357ec7add\n",
      "Trying to apply to job\n",
      "https://www.dice.com/job-detail/f0b2511a-55ff-4f71-9d99-28a61e7ac165?searchlink=search%2F%3Fq%3Dpython%2C%2520Data%2520scientist%26countryCode%3DUS%26radius%3D30%26radiusUnit%3Dmi%26page%3D5%26pageSize%3D20%26filters.isRemote%3Dtrue%26language%3Den%26eid%3DS2Q_&searchId=72c58d2f-e367-42c6-9ff8-716357ec7add\n",
      "Trying to apply to job\n",
      "https://www.dice.com/job-detail/2645f378-a82c-44bc-9c7e-753acd21086e?searchlink=search%2F%3Fq%3Dpython%2C%2520Data%2520scientist%26countryCode%3DUS%26radius%3D30%26radiusUnit%3Dmi%26page%3D5%26pageSize%3D20%26filters.isRemote%3Dtrue%26language%3Den%26eid%3DS2Q_&searchId=72c58d2f-e367-42c6-9ff8-716357ec7add\n",
      "Trying to apply to job\n",
      "https://www.dice.com/job-detail/2e14b9d0-bd8f-40d5-b649-07404cb2dfc5?searchlink=search%2F%3Fq%3Dpython%2C%2520Data%2520scientist%26countryCode%3DUS%26radius%3D30%26radiusUnit%3Dmi%26page%3D5%26pageSize%3D20%26filters.isRemote%3Dtrue%26language%3Den%26eid%3DS2Q_&searchId=72c58d2f-e367-42c6-9ff8-716357ec7add\n",
      "Trying to apply to job\n",
      "https://www.dice.com/job-detail/7f20863f-57bd-4fe5-8b4c-24c4da477fd8?searchlink=search%2F%3Fq%3Dpython%2C%2520Data%2520scientist%26countryCode%3DUS%26radius%3D30%26radiusUnit%3Dmi%26page%3D5%26pageSize%3D20%26filters.isRemote%3Dtrue%26language%3Den%26eid%3DS2Q_&searchId=72c58d2f-e367-42c6-9ff8-716357ec7add\n",
      "Trying to apply to job\n",
      "https://www.dice.com/job-detail/7965e00a-62f7-4dae-a02a-fc94d2fcd9a0?searchlink=search%2F%3Fq%3Dpython%2C%2520Data%2520scientist%26countryCode%3DUS%26radius%3D30%26radiusUnit%3Dmi%26page%3D5%26pageSize%3D20%26filters.isRemote%3Dtrue%26language%3Den%26eid%3DS2Q_&searchId=72c58d2f-e367-42c6-9ff8-716357ec7add\n",
      "Trying to apply to job\n",
      "https://www.dice.com/job-detail/9b3fc95b-b591-4026-9a36-0eb169d0e64e?searchlink=search%2F%3Fq%3Dpython%2C%2520Data%2520scientist%26countryCode%3DUS%26radius%3D30%26radiusUnit%3Dmi%26page%3D5%26pageSize%3D20%26filters.isRemote%3Dtrue%26language%3Den%26eid%3DS2Q_&searchId=72c58d2f-e367-42c6-9ff8-716357ec7add\n",
      "Trying to apply to job\n",
      "https://www.dice.com/job-detail/3ead8c74-5243-4cb5-b04f-3d92b1db3047?searchlink=search%2F%3Fq%3Dpython%2C%2520Data%2520scientist%26countryCode%3DUS%26radius%3D30%26radiusUnit%3Dmi%26page%3D5%26pageSize%3D20%26filters.isRemote%3Dtrue%26language%3Den%26eid%3DS2Q_&searchId=72c58d2f-e367-42c6-9ff8-716357ec7add\n",
      "Trying to apply to job\n"
     ]
    }
   ],
   "source": [
    "for i in range(40):\n",
    "    Actualizar_links(driver)\n",
    "    df=pd.read_csv(\"pags_web.csv\")\n",
    "    for link in df[\"href\"]:\n",
    "        driver.get(link)\n",
    "        print(link)\n",
    "        Apply2(driver,verbose=True)\n",
    "    driver.get(\"https://www.dice.com/jobs\")"
   ]
  },
  {
   "cell_type": "code",
   "execution_count": 6,
   "metadata": {},
   "outputs": [],
   "source": [
    "def Es_EasyApply(driver):\n",
    "    \"\"\"Miramos en la info de la página si es easy apply o no\"\"\"\n",
    "    texto=driver.find_elements(By.XPATH,'//*[@id=\"__NEXT_DATA__\"]')[0].get_attribute('innerHTML')\n",
    "    index=texto.find(\"easyApply\")\n",
    "    texto=texto[index:]\n",
    "    index2=texto.find(\",\")\n",
    "    texto=texto[:index2]\n",
    "\n",
    "    if texto.split(\":\")[1]==\"true\":\n",
    "        return True\n",
    "    elif texto.split(\":\")[1]==\"false\":\n",
    "        return False\n",
    "    else:\n",
    "        print(\"ALGO HA IDO MAL MIRANDO SI ES EASY APPLY\")\n",
    "        return False"
   ]
  },
  {
   "cell_type": "code",
   "execution_count": 9,
   "metadata": {},
   "outputs": [],
   "source": [
    "def close_tab(driver):\n",
    "    \"\"\"Closes the current tab and creates an empty tab\"\"\"\n",
    "    # Disable the \"Leave site?\" pop-up\n",
    "    driver.execute_script(\"window.onbeforeunload = null;\")\n",
    "    \n",
    "    driver.execute_script(\"window.open('', '_blank');\")\n",
    "    driver.switch_to.window(driver.window_handles[0])\n",
    "    driver.close()\n",
    "    driver.switch_to.window(driver.window_handles[0])"
   ]
  },
  {
   "cell_type": "code",
   "execution_count": 8,
   "metadata": {},
   "outputs": [],
   "source": [
    "def Apply2(driver,verbose=False):\n",
    "    if verbose:\n",
    "        print(\"Trying to apply to job\")\n",
    "\n",
    "    if not Es_EasyApply(driver):\n",
    "        if verbose:\n",
    "            print(\"Not Easy Apply\")\n",
    "        return\n",
    "\n",
    "\n",
    "    Button=WebDriverWait(driver,10).until(\n",
    "            EC.element_to_be_clickable((By.XPATH,'//apply-button-wc'))\n",
    "        )\n",
    "    sleep(5)\n",
    "    \n",
    "    if \"Application Submitted\" in Button.text:\n",
    "        if verbose:\n",
    "            print(\"Already Applied\")\n",
    "        return\n",
    "\n",
    "    Button.click()\n",
    "    sleep(5)\n",
    "\n",
    "    #The next button\n",
    "    WebDriverWait(driver,10).until(\n",
    "            EC.element_to_be_clickable((By.XPATH,'//button[@class=\"btn btn-primary btn-next btn-block\"]'))\n",
    "        ).click()\n",
    "\n",
    "    sleep(5)\n",
    "\n",
    "    #We´re gonna check if there are questions\n",
    "    Header=WebDriverWait(driver,10).until(\n",
    "            EC.element_to_be_clickable((By.XPATH,'//dhi-seds-typography-heading'))\n",
    "        ).text\n",
    "    sleep(5)    \n",
    "\n",
    "    #If there are questions we´re gonna RUUUUN\n",
    "    if \"Application Questions\" in Header:\n",
    "        if verbose:\n",
    "            print(\"Application Questions\")\n",
    "\n",
    "            #Maybe in the future I might save them or I might connect it to an LLM\n",
    "            Questions=WebDriverWait(driver, 10).until(\n",
    "                EC.visibility_of_all_elements_located((By.XPATH, '//div[@class=\"screeners-wrapper\"]//label'))\n",
    "            )\n",
    "            for i in range(len(Questions)):\n",
    "                print(Questions[i].text)\n",
    "        \n",
    "        close_tab(driver)\n",
    "\n",
    "\n",
    "        return\n",
    "    \n",
    "    #The send button\n",
    "    WebDriverWait(driver,10).until(\n",
    "            EC.element_to_be_clickable((By.XPATH,'//button[@class=\"btn btn-primary btn-next btn-split\"]'))\n",
    "        ).click()\n",
    "    sleep(5)"
   ]
  },
  {
   "cell_type": "code",
   "execution_count": 185,
   "metadata": {},
   "outputs": [
    {
     "data": {
      "text/plain": [
       "'true'"
      ]
     },
     "execution_count": 185,
     "metadata": {},
     "output_type": "execute_result"
    }
   ],
   "source": []
  },
  {
   "cell_type": "code",
   "execution_count": 171,
   "metadata": {},
   "outputs": [
    {
     "ename": "JSONDecodeError",
     "evalue": "Expecting ',' delimiter: line 1 column 10001 (char 10000)",
     "output_type": "error",
     "traceback": [
      "\u001b[1;31m---------------------------------------------------------------------------\u001b[0m",
      "\u001b[1;31mJSONDecodeError\u001b[0m                           Traceback (most recent call last)",
      "Cell \u001b[1;32mIn[171], line 2\u001b[0m\n\u001b[0;32m      1\u001b[0m \u001b[39mimport\u001b[39;00m \u001b[39mjson\u001b[39;00m\n\u001b[1;32m----> 2\u001b[0m json\u001b[39m.\u001b[39;49mloads(driver\u001b[39m.\u001b[39;49mfind_elements(By\u001b[39m.\u001b[39;49mXPATH,\u001b[39m'\u001b[39;49m\u001b[39m//*[@id=\u001b[39;49m\u001b[39m\"\u001b[39;49m\u001b[39m__NEXT_DATA__\u001b[39;49m\u001b[39m\"\u001b[39;49m\u001b[39m]\u001b[39;49m\u001b[39m'\u001b[39;49m)[\u001b[39m0\u001b[39;49m]\u001b[39m.\u001b[39;49mget_attribute(\u001b[39m'\u001b[39;49m\u001b[39minnerHTML\u001b[39;49m\u001b[39m'\u001b[39;49m))\n",
      "File \u001b[1;32mc:\\Users\\Rafa\\miniconda3\\lib\\json\\__init__.py:346\u001b[0m, in \u001b[0;36mloads\u001b[1;34m(s, cls, object_hook, parse_float, parse_int, parse_constant, object_pairs_hook, **kw)\u001b[0m\n\u001b[0;32m    341\u001b[0m     s \u001b[39m=\u001b[39m s\u001b[39m.\u001b[39mdecode(detect_encoding(s), \u001b[39m'\u001b[39m\u001b[39msurrogatepass\u001b[39m\u001b[39m'\u001b[39m)\n\u001b[0;32m    343\u001b[0m \u001b[39mif\u001b[39;00m (\u001b[39mcls\u001b[39m \u001b[39mis\u001b[39;00m \u001b[39mNone\u001b[39;00m \u001b[39mand\u001b[39;00m object_hook \u001b[39mis\u001b[39;00m \u001b[39mNone\u001b[39;00m \u001b[39mand\u001b[39;00m\n\u001b[0;32m    344\u001b[0m         parse_int \u001b[39mis\u001b[39;00m \u001b[39mNone\u001b[39;00m \u001b[39mand\u001b[39;00m parse_float \u001b[39mis\u001b[39;00m \u001b[39mNone\u001b[39;00m \u001b[39mand\u001b[39;00m\n\u001b[0;32m    345\u001b[0m         parse_constant \u001b[39mis\u001b[39;00m \u001b[39mNone\u001b[39;00m \u001b[39mand\u001b[39;00m object_pairs_hook \u001b[39mis\u001b[39;00m \u001b[39mNone\u001b[39;00m \u001b[39mand\u001b[39;00m \u001b[39mnot\u001b[39;00m kw):\n\u001b[1;32m--> 346\u001b[0m     \u001b[39mreturn\u001b[39;00m _default_decoder\u001b[39m.\u001b[39;49mdecode(s)\n\u001b[0;32m    347\u001b[0m \u001b[39mif\u001b[39;00m \u001b[39mcls\u001b[39m \u001b[39mis\u001b[39;00m \u001b[39mNone\u001b[39;00m:\n\u001b[0;32m    348\u001b[0m     \u001b[39mcls\u001b[39m \u001b[39m=\u001b[39m JSONDecoder\n",
      "File \u001b[1;32mc:\\Users\\Rafa\\miniconda3\\lib\\json\\decoder.py:337\u001b[0m, in \u001b[0;36mJSONDecoder.decode\u001b[1;34m(self, s, _w)\u001b[0m\n\u001b[0;32m    332\u001b[0m \u001b[39mdef\u001b[39;00m \u001b[39mdecode\u001b[39m(\u001b[39mself\u001b[39m, s, _w\u001b[39m=\u001b[39mWHITESPACE\u001b[39m.\u001b[39mmatch):\n\u001b[0;32m    333\u001b[0m \u001b[39m    \u001b[39m\u001b[39m\"\"\"Return the Python representation of ``s`` (a ``str`` instance\u001b[39;00m\n\u001b[0;32m    334\u001b[0m \u001b[39m    containing a JSON document).\u001b[39;00m\n\u001b[0;32m    335\u001b[0m \n\u001b[0;32m    336\u001b[0m \u001b[39m    \"\"\"\u001b[39;00m\n\u001b[1;32m--> 337\u001b[0m     obj, end \u001b[39m=\u001b[39m \u001b[39mself\u001b[39;49m\u001b[39m.\u001b[39;49mraw_decode(s, idx\u001b[39m=\u001b[39;49m_w(s, \u001b[39m0\u001b[39;49m)\u001b[39m.\u001b[39;49mend())\n\u001b[0;32m    338\u001b[0m     end \u001b[39m=\u001b[39m _w(s, end)\u001b[39m.\u001b[39mend()\n\u001b[0;32m    339\u001b[0m     \u001b[39mif\u001b[39;00m end \u001b[39m!=\u001b[39m \u001b[39mlen\u001b[39m(s):\n",
      "File \u001b[1;32mc:\\Users\\Rafa\\miniconda3\\lib\\json\\decoder.py:353\u001b[0m, in \u001b[0;36mJSONDecoder.raw_decode\u001b[1;34m(self, s, idx)\u001b[0m\n\u001b[0;32m    344\u001b[0m \u001b[39m\u001b[39m\u001b[39m\"\"\"Decode a JSON document from ``s`` (a ``str`` beginning with\u001b[39;00m\n\u001b[0;32m    345\u001b[0m \u001b[39ma JSON document) and return a 2-tuple of the Python\u001b[39;00m\n\u001b[0;32m    346\u001b[0m \u001b[39mrepresentation and the index in ``s`` where the document ended.\u001b[39;00m\n\u001b[1;32m   (...)\u001b[0m\n\u001b[0;32m    350\u001b[0m \n\u001b[0;32m    351\u001b[0m \u001b[39m\"\"\"\u001b[39;00m\n\u001b[0;32m    352\u001b[0m \u001b[39mtry\u001b[39;00m:\n\u001b[1;32m--> 353\u001b[0m     obj, end \u001b[39m=\u001b[39m \u001b[39mself\u001b[39;49m\u001b[39m.\u001b[39;49mscan_once(s, idx)\n\u001b[0;32m    354\u001b[0m \u001b[39mexcept\u001b[39;00m \u001b[39mStopIteration\u001b[39;00m \u001b[39mas\u001b[39;00m err:\n\u001b[0;32m    355\u001b[0m     \u001b[39mraise\u001b[39;00m JSONDecodeError(\u001b[39m\"\u001b[39m\u001b[39mExpecting value\u001b[39m\u001b[39m\"\u001b[39m, s, err\u001b[39m.\u001b[39mvalue) \u001b[39mfrom\u001b[39;00m \u001b[39mNone\u001b[39;00m\n",
      "\u001b[1;31mJSONDecodeError\u001b[0m: Expecting ',' delimiter: line 1 column 10001 (char 10000)"
     ]
    }
   ],
   "source": [
    "import json\n",
    "json.loads(driver.find_elements(By.XPATH,'//*[@id=\"__NEXT_DATA__\"]')[0].get_attribute('innerHTML'))"
   ]
  },
  {
   "cell_type": "code",
   "execution_count": 129,
   "metadata": {},
   "outputs": [],
   "source": [
    "driver.get(\"https://www.dice.com/job-detail/06d2dae5-e936-4c45-9a20-8016b59d9c6d?searchlink=search%2F%3Fq%3Dpython%2C%2520Data%2520scientist%26countryCode%3DUS%26radius%3D30%26radiusUnit%3Dmi%26page%3D1%26pageSize%3D20%26filters.isRemote%3Dtrue%26language%3Den%26eid%3DS2Q_&searchId=d78b1e7d-a669-4607-8097-a90418125188\")"
   ]
  },
  {
   "cell_type": "code",
   "execution_count": 145,
   "metadata": {},
   "outputs": [],
   "source": [
    "el=driver.find_elements(By.XPATH,'//apply-button-wc')[0]"
   ]
  },
  {
   "cell_type": "code",
   "execution_count": 146,
   "metadata": {},
   "outputs": [],
   "source": [
    "a=expand_shadow_element(driver,el)\n"
   ]
  },
  {
   "cell_type": "code",
   "execution_count": 156,
   "metadata": {},
   "outputs": [
    {
     "data": {
      "text/plain": [
       "<selenium.webdriver.remote.shadowroot.ShadowRoot (session=\"40f9545fe8c63e22be10bfc155ab2cb4\", element=\"54554470A8686941517112CEC5935D82_element_1549\")>"
      ]
     },
     "execution_count": 156,
     "metadata": {},
     "output_type": "execute_result"
    }
   ],
   "source": [
    "a"
   ]
  },
  {
   "cell_type": "code",
   "execution_count": null,
   "metadata": {},
   "outputs": [],
   "source": [
    "By.TAG_NAME"
   ]
  },
  {
   "cell_type": "code",
   "execution_count": 158,
   "metadata": {},
   "outputs": [
    {
     "data": {
      "text/plain": [
       "'Apply Now'"
      ]
     },
     "execution_count": 158,
     "metadata": {},
     "output_type": "execute_result"
    }
   ],
   "source": [
    "a.find_element(By.,\"hydrated\").text"
   ]
  },
  {
   "cell_type": "code",
   "execution_count": 161,
   "metadata": {},
   "outputs": [
    {
     "ename": "AttributeError",
     "evalue": "'ShadowRoot' object has no attribute 'find_element_by_tag_name'",
     "output_type": "error",
     "traceback": [
      "\u001b[1;31m---------------------------------------------------------------------------\u001b[0m",
      "\u001b[1;31mAttributeError\u001b[0m                            Traceback (most recent call last)",
      "Cell \u001b[1;32mIn[161], line 1\u001b[0m\n\u001b[1;32m----> 1\u001b[0m a\u001b[39m.\u001b[39;49mfind_element_by_tag_name(\u001b[39m'\u001b[39m\u001b[39mexternal-icon\u001b[39m\u001b[39m'\u001b[39m)\n",
      "\u001b[1;31mAttributeError\u001b[0m: 'ShadowRoot' object has no attribute 'find_element_by_tag_name'"
     ]
    }
   ],
   "source": [
    "a.find_element_by_tag_name('external-icon')"
   ]
  },
  {
   "cell_type": "code",
   "execution_count": 160,
   "metadata": {},
   "outputs": [
    {
     "ename": "InvalidArgumentException",
     "evalue": "Message: invalid argument: invalid locator\n  (Session info: chrome=115.0.5790.171)\nStacktrace:\nBacktrace:\n\tGetHandleVerifier [0x01112B63+47795]\n\t(No symbol) [0x010A67E1]\n\t(No symbol) [0x00FAC7ED]\n\t(No symbol) [0x00FD99CD]\n\t(No symbol) [0x00FD9BDB]\n\t(No symbol) [0x00FD2CA1]\n\t(No symbol) [0x00FF4D14]\n\t(No symbol) [0x00FD2BC6]\n\t(No symbol) [0x00FF5024]\n\t(No symbol) [0x010071DA]\n\t(No symbol) [0x00FF4AC6]\n\t(No symbol) [0x00FD13D7]\n\t(No symbol) [0x00FD255D]\n\tGetHandleVerifier [0x01366F89+2490073]\n\tGetHandleVerifier [0x013AC361+2773681]\n\tGetHandleVerifier [0x013A6211+2748769]\n\tGetHandleVerifier [0x011916B0+566784]\n\t(No symbol) [0x010B019A]\n\t(No symbol) [0x010AC418]\n\t(No symbol) [0x010AC4FB]\n\t(No symbol) [0x0109F317]\n\tBaseThreadInitThunk [0x74BE7D59+25]\n\tRtlInitializeExceptionChain [0x76F1B79B+107]\n\tRtlClearBits [0x76F1B71F+191]\n",
     "output_type": "error",
     "traceback": [
      "\u001b[1;31m---------------------------------------------------------------------------\u001b[0m",
      "\u001b[1;31mInvalidArgumentException\u001b[0m                  Traceback (most recent call last)",
      "Cell \u001b[1;32mIn[160], line 1\u001b[0m\n\u001b[1;32m----> 1\u001b[0m a\u001b[39m.\u001b[39;49mfind_element(By\u001b[39m.\u001b[39;49mTAG_NAME,\u001b[39m'\u001b[39;49m\u001b[39m.external-icon\u001b[39;49m\u001b[39m'\u001b[39;49m)\n",
      "File \u001b[1;32mc:\\Users\\Rafa\\miniconda3\\lib\\site-packages\\selenium\\webdriver\\remote\\shadowroot.py:53\u001b[0m, in \u001b[0;36mShadowRoot.find_element\u001b[1;34m(self, by, value)\u001b[0m\n\u001b[0;32m     50\u001b[0m     by \u001b[39m=\u001b[39m By\u001b[39m.\u001b[39mCSS_SELECTOR\n\u001b[0;32m     51\u001b[0m     value \u001b[39m=\u001b[39m \u001b[39mf\u001b[39m\u001b[39m'\u001b[39m\u001b[39m[name=\u001b[39m\u001b[39m\"\u001b[39m\u001b[39m{\u001b[39;00mvalue\u001b[39m}\u001b[39;00m\u001b[39m\"\u001b[39m\u001b[39m]\u001b[39m\u001b[39m'\u001b[39m\n\u001b[1;32m---> 53\u001b[0m \u001b[39mreturn\u001b[39;00m \u001b[39mself\u001b[39;49m\u001b[39m.\u001b[39;49m_execute(Command\u001b[39m.\u001b[39;49mFIND_ELEMENT_FROM_SHADOW_ROOT, {\u001b[39m\"\u001b[39;49m\u001b[39musing\u001b[39;49m\u001b[39m\"\u001b[39;49m: by, \u001b[39m\"\u001b[39;49m\u001b[39mvalue\u001b[39;49m\u001b[39m\"\u001b[39;49m: value})[\u001b[39m\"\u001b[39m\u001b[39mvalue\u001b[39m\u001b[39m\"\u001b[39m]\n",
      "File \u001b[1;32mc:\\Users\\Rafa\\miniconda3\\lib\\site-packages\\selenium\\webdriver\\remote\\shadowroot.py:82\u001b[0m, in \u001b[0;36mShadowRoot._execute\u001b[1;34m(self, command, params)\u001b[0m\n\u001b[0;32m     80\u001b[0m     params \u001b[39m=\u001b[39m {}\n\u001b[0;32m     81\u001b[0m params[\u001b[39m\"\u001b[39m\u001b[39mshadowId\u001b[39m\u001b[39m\"\u001b[39m] \u001b[39m=\u001b[39m \u001b[39mself\u001b[39m\u001b[39m.\u001b[39m_id\n\u001b[1;32m---> 82\u001b[0m \u001b[39mreturn\u001b[39;00m \u001b[39mself\u001b[39;49m\u001b[39m.\u001b[39;49msession\u001b[39m.\u001b[39;49mexecute(command, params)\n",
      "File \u001b[1;32mc:\\Users\\Rafa\\miniconda3\\lib\\site-packages\\selenium\\webdriver\\remote\\webdriver.py:345\u001b[0m, in \u001b[0;36mWebDriver.execute\u001b[1;34m(self, driver_command, params)\u001b[0m\n\u001b[0;32m    343\u001b[0m response \u001b[39m=\u001b[39m \u001b[39mself\u001b[39m\u001b[39m.\u001b[39mcommand_executor\u001b[39m.\u001b[39mexecute(driver_command, params)\n\u001b[0;32m    344\u001b[0m \u001b[39mif\u001b[39;00m response:\n\u001b[1;32m--> 345\u001b[0m     \u001b[39mself\u001b[39;49m\u001b[39m.\u001b[39;49merror_handler\u001b[39m.\u001b[39;49mcheck_response(response)\n\u001b[0;32m    346\u001b[0m     response[\u001b[39m\"\u001b[39m\u001b[39mvalue\u001b[39m\u001b[39m\"\u001b[39m] \u001b[39m=\u001b[39m \u001b[39mself\u001b[39m\u001b[39m.\u001b[39m_unwrap_value(response\u001b[39m.\u001b[39mget(\u001b[39m\"\u001b[39m\u001b[39mvalue\u001b[39m\u001b[39m\"\u001b[39m, \u001b[39mNone\u001b[39;00m))\n\u001b[0;32m    347\u001b[0m     \u001b[39mreturn\u001b[39;00m response\n",
      "File \u001b[1;32mc:\\Users\\Rafa\\miniconda3\\lib\\site-packages\\selenium\\webdriver\\remote\\errorhandler.py:229\u001b[0m, in \u001b[0;36mErrorHandler.check_response\u001b[1;34m(self, response)\u001b[0m\n\u001b[0;32m    227\u001b[0m         alert_text \u001b[39m=\u001b[39m value[\u001b[39m\"\u001b[39m\u001b[39malert\u001b[39m\u001b[39m\"\u001b[39m]\u001b[39m.\u001b[39mget(\u001b[39m\"\u001b[39m\u001b[39mtext\u001b[39m\u001b[39m\"\u001b[39m)\n\u001b[0;32m    228\u001b[0m     \u001b[39mraise\u001b[39;00m exception_class(message, screen, stacktrace, alert_text)  \u001b[39m# type: ignore[call-arg]  # mypy is not smart enough here\u001b[39;00m\n\u001b[1;32m--> 229\u001b[0m \u001b[39mraise\u001b[39;00m exception_class(message, screen, stacktrace)\n",
      "\u001b[1;31mInvalidArgumentException\u001b[0m: Message: invalid argument: invalid locator\n  (Session info: chrome=115.0.5790.171)\nStacktrace:\nBacktrace:\n\tGetHandleVerifier [0x01112B63+47795]\n\t(No symbol) [0x010A67E1]\n\t(No symbol) [0x00FAC7ED]\n\t(No symbol) [0x00FD99CD]\n\t(No symbol) [0x00FD9BDB]\n\t(No symbol) [0x00FD2CA1]\n\t(No symbol) [0x00FF4D14]\n\t(No symbol) [0x00FD2BC6]\n\t(No symbol) [0x00FF5024]\n\t(No symbol) [0x010071DA]\n\t(No symbol) [0x00FF4AC6]\n\t(No symbol) [0x00FD13D7]\n\t(No symbol) [0x00FD255D]\n\tGetHandleVerifier [0x01366F89+2490073]\n\tGetHandleVerifier [0x013AC361+2773681]\n\tGetHandleVerifier [0x013A6211+2748769]\n\tGetHandleVerifier [0x011916B0+566784]\n\t(No symbol) [0x010B019A]\n\t(No symbol) [0x010AC418]\n\t(No symbol) [0x010AC4FB]\n\t(No symbol) [0x0109F317]\n\tBaseThreadInitThunk [0x74BE7D59+25]\n\tRtlInitializeExceptionChain [0x76F1B79B+107]\n\tRtlClearBits [0x76F1B71F+191]\n"
     ]
    }
   ],
   "source": [
    "a.find_element(By.TAG_NAME,'.external-icon')"
   ]
  },
  {
   "cell_type": "code",
   "execution_count": 124,
   "metadata": {},
   "outputs": [
    {
     "ename": "KeyboardInterrupt",
     "evalue": "",
     "output_type": "error",
     "traceback": [
      "\u001b[1;31m---------------------------------------------------------------------------\u001b[0m",
      "\u001b[1;31mKeyboardInterrupt\u001b[0m                         Traceback (most recent call last)",
      "Cell \u001b[1;32mIn[124], line 1\u001b[0m\n\u001b[1;32m----> 1\u001b[0m WebDriverWait(driver, \u001b[39m10\u001b[39;49m)\u001b[39m.\u001b[39;49muntil(\n\u001b[0;32m      2\u001b[0m     EC\u001b[39m.\u001b[39;49mvisibility_of_all_elements_located((By\u001b[39m.\u001b[39;49mXPATH, \u001b[39m'\u001b[39;49m\u001b[39m//*[@id=\u001b[39;49m\u001b[39m\"\u001b[39;49m\u001b[39m__next\u001b[39;49m\u001b[39m\"\u001b[39;49m\u001b[39m]/div/main/header/div/div/div[4]/div[2]/apply-button-wc//apply-button/div/button/external-icon\u001b[39;49m\u001b[39m'\u001b[39;49m))\n\u001b[0;32m      3\u001b[0m )[\u001b[39m1\u001b[39m]\u001b[39m.\u001b[39mtext\n",
      "File \u001b[1;32mc:\\Users\\Rafa\\miniconda3\\lib\\site-packages\\selenium\\webdriver\\support\\wait.py:92\u001b[0m, in \u001b[0;36mWebDriverWait.until\u001b[1;34m(self, method, message)\u001b[0m\n\u001b[0;32m     90\u001b[0m     screen \u001b[39m=\u001b[39m \u001b[39mgetattr\u001b[39m(exc, \u001b[39m\"\u001b[39m\u001b[39mscreen\u001b[39m\u001b[39m\"\u001b[39m, \u001b[39mNone\u001b[39;00m)\n\u001b[0;32m     91\u001b[0m     stacktrace \u001b[39m=\u001b[39m \u001b[39mgetattr\u001b[39m(exc, \u001b[39m\"\u001b[39m\u001b[39mstacktrace\u001b[39m\u001b[39m\"\u001b[39m, \u001b[39mNone\u001b[39;00m)\n\u001b[1;32m---> 92\u001b[0m time\u001b[39m.\u001b[39;49msleep(\u001b[39mself\u001b[39;49m\u001b[39m.\u001b[39;49m_poll)\n\u001b[0;32m     93\u001b[0m \u001b[39mif\u001b[39;00m time\u001b[39m.\u001b[39mmonotonic() \u001b[39m>\u001b[39m end_time:\n\u001b[0;32m     94\u001b[0m     \u001b[39mbreak\u001b[39;00m\n",
      "\u001b[1;31mKeyboardInterrupt\u001b[0m: "
     ]
    }
   ],
   "source": [
    "WebDriverWait(driver, 10).until(\n",
    "    EC.visibility_of_all_elements_located((By.XPATH, '//div[@class=\"screeners-wrapper\"]//label'))\n",
    ")[1].text"
   ]
  },
  {
   "cell_type": "code",
   "execution_count": 53,
   "metadata": {},
   "outputs": [
    {
     "data": {
      "text/plain": [
       "'Would you be able to work on W2?'"
      ]
     },
     "execution_count": 53,
     "metadata": {},
     "output_type": "execute_result"
    }
   ],
   "source": [
    "driver.find_elements(By.XPATH,'//div[@class=\"screeners-wrapper\"]//label')[0].text\n"
   ]
  },
  {
   "cell_type": "code",
   "execution_count": 26,
   "metadata": {},
   "outputs": [
    {
     "data": {
      "text/plain": [
       "'Application Submitted 1 minute ago'"
      ]
     },
     "execution_count": 26,
     "metadata": {},
     "output_type": "execute_result"
    }
   ],
   "source": [
    "driver.find_elements(By.XPATH,'//apply-button-wc')[0].text\n"
   ]
  },
  {
   "cell_type": "code",
   "execution_count": 22,
   "metadata": {},
   "outputs": [],
   "source": [
    "WebDriverWait(driver,10).until(\n",
    "            EC.element_to_be_clickable((By.XPATH,'//apply-button-wc'))\n",
    "        ).click()"
   ]
  },
  {
   "cell_type": "code",
   "execution_count": 27,
   "metadata": {},
   "outputs": [
    {
     "data": {
      "text/plain": [
       "<selenium.webdriver.chrome.webdriver.WebDriver (session=\"cd43ed225d90977cbedf87a639d98bb2\")>"
      ]
     },
     "execution_count": 27,
     "metadata": {},
     "output_type": "execute_result"
    }
   ],
   "source": [
    "driver."
   ]
  }
 ],
 "metadata": {
  "kernelspec": {
   "display_name": "base",
   "language": "python",
   "name": "python3"
  },
  "language_info": {
   "codemirror_mode": {
    "name": "ipython",
    "version": 3
   },
   "file_extension": ".py",
   "mimetype": "text/x-python",
   "name": "python",
   "nbconvert_exporter": "python",
   "pygments_lexer": "ipython3",
   "version": "3.10.9"
  },
  "orig_nbformat": 4
 },
 "nbformat": 4,
 "nbformat_minor": 2
}
