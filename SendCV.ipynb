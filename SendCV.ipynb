{
 "cells": [
  {
   "cell_type": "code",
   "execution_count": 1,
   "metadata": {},
   "outputs": [],
   "source": [
    "from SendCV import *"
   ]
  },
  {
   "cell_type": "code",
   "execution_count": 2,
   "metadata": {},
   "outputs": [],
   "source": [
    "driver= Iniciar_driver(publicado_hoy=True,trabajo_a_buscar=\"python, Data Analyst\")"
   ]
  },
  {
   "cell_type": "code",
   "execution_count": 3,
   "metadata": {},
   "outputs": [],
   "source": [
    "Actualizar_links(driver)"
   ]
  },
  {
   "cell_type": "code",
   "execution_count": 4,
   "metadata": {},
   "outputs": [
    {
     "name": "stdout",
     "output_type": "stream",
     "text": [
      "https://www.dice.com/job-detail/ec104fc0-08f4-4fd8-9a54-9618ec2d3c48?searchlink=search%2F%3Fq%3Dpython%2C%2520Data%2520Analyst%26countryCode%3DUS%26radius%3D30%26radiusUnit%3Dmi%26page%3D3%26pageSize%3D20%26filters.postedDate%3DONE%26filters.easyApply%3Dtrue%26filters.isRemote%3Dtrue%26language%3Den%26eid%3DS2Q_&searchId=1eb90fcb-a81e-493b-9617-9b2c71c9858b\n",
      "Trying to apply to job\n",
      "https://www.dice.com/job-detail/0387f90c-dcd4-4d07-a1b3-49d6fa7e9ad8?searchlink=search%2F%3Fq%3Dpython%2C%2520Data%2520Analyst%26countryCode%3DUS%26radius%3D30%26radiusUnit%3Dmi%26page%3D3%26pageSize%3D20%26filters.postedDate%3DONE%26filters.easyApply%3Dtrue%26filters.isRemote%3Dtrue%26language%3Den%26eid%3DS2Q_&searchId=1eb90fcb-a81e-493b-9617-9b2c71c9858b\n",
      "Trying to apply to job\n",
      "https://www.dice.com/job-detail/3cd07d20-db30-4e04-af9a-f72653fdde37?searchlink=search%2F%3Fq%3Dpython%2C%2520Data%2520Analyst%26countryCode%3DUS%26radius%3D30%26radiusUnit%3Dmi%26page%3D3%26pageSize%3D20%26filters.postedDate%3DONE%26filters.easyApply%3Dtrue%26filters.isRemote%3Dtrue%26language%3Den%26eid%3DS2Q_&searchId=1eb90fcb-a81e-493b-9617-9b2c71c9858b\n",
      "Trying to apply to job\n",
      "https://www.dice.com/job-detail/24f43117-f8b8-44c8-8eb2-7d841fef14db?searchlink=search%2F%3Fq%3Dpython%2C%2520Data%2520Analyst%26countryCode%3DUS%26radius%3D30%26radiusUnit%3Dmi%26page%3D3%26pageSize%3D20%26filters.postedDate%3DONE%26filters.easyApply%3Dtrue%26filters.isRemote%3Dtrue%26language%3Den%26eid%3DS2Q_&searchId=1eb90fcb-a81e-493b-9617-9b2c71c9858b\n",
      "Trying to apply to job\n",
      "https://www.dice.com/job-detail/7f79526c-5dc7-492d-8893-bbb25abed671?searchlink=search%2F%3Fq%3Dpython%2C%2520Data%2520Analyst%26countryCode%3DUS%26radius%3D30%26radiusUnit%3Dmi%26page%3D3%26pageSize%3D20%26filters.postedDate%3DONE%26filters.easyApply%3Dtrue%26filters.isRemote%3Dtrue%26language%3Den%26eid%3DS2Q_&searchId=1eb90fcb-a81e-493b-9617-9b2c71c9858b\n",
      "Trying to apply to job\n",
      "https://www.dice.com/job-detail/f0fbb509-eb15-4fad-a69f-4528f9c86d44?searchlink=search%2F%3Fq%3Dpython%2C%2520Data%2520Analyst%26countryCode%3DUS%26radius%3D30%26radiusUnit%3Dmi%26page%3D3%26pageSize%3D20%26filters.postedDate%3DONE%26filters.easyApply%3Dtrue%26filters.isRemote%3Dtrue%26language%3Den%26eid%3DS2Q_&searchId=1eb90fcb-a81e-493b-9617-9b2c71c9858b\n",
      "Trying to apply to job\n",
      "https://www.dice.com/job-detail/98257a43-26eb-4696-91f3-5e3f1d2c44a2?searchlink=search%2F%3Fq%3Dpython%2C%2520Data%2520Analyst%26countryCode%3DUS%26radius%3D30%26radiusUnit%3Dmi%26page%3D3%26pageSize%3D20%26filters.postedDate%3DONE%26filters.easyApply%3Dtrue%26filters.isRemote%3Dtrue%26language%3Den%26eid%3DS2Q_&searchId=1eb90fcb-a81e-493b-9617-9b2c71c9858b\n",
      "Trying to apply to job\n",
      "https://www.dice.com/job-detail/2114020b-292d-45bd-ab53-99c9a4051488?searchlink=search%2F%3Fq%3Dpython%2C%2520Data%2520Analyst%26countryCode%3DUS%26radius%3D30%26radiusUnit%3Dmi%26page%3D3%26pageSize%3D20%26filters.postedDate%3DONE%26filters.easyApply%3Dtrue%26filters.isRemote%3Dtrue%26language%3Den%26eid%3DS2Q_&searchId=1eb90fcb-a81e-493b-9617-9b2c71c9858b\n",
      "Trying to apply to job\n",
      "https://www.dice.com/job-detail/e24ba0e2-e3f3-4e78-9cdc-58472975be7e?searchlink=search%2F%3Fq%3Dpython%2C%2520Data%2520Analyst%26countryCode%3DUS%26radius%3D30%26radiusUnit%3Dmi%26page%3D3%26pageSize%3D20%26filters.postedDate%3DONE%26filters.easyApply%3Dtrue%26filters.isRemote%3Dtrue%26language%3Den%26eid%3DS2Q_&searchId=1eb90fcb-a81e-493b-9617-9b2c71c9858b\n",
      "Trying to apply to job\n",
      "https://www.dice.com/job-detail/357e2133-1b44-4c4c-b438-debf2ea17d33?searchlink=search%2F%3Fq%3Dpython%2C%2520Data%2520Analyst%26countryCode%3DUS%26radius%3D30%26radiusUnit%3Dmi%26page%3D3%26pageSize%3D20%26filters.postedDate%3DONE%26filters.easyApply%3Dtrue%26filters.isRemote%3Dtrue%26language%3Den%26eid%3DS2Q_&searchId=1eb90fcb-a81e-493b-9617-9b2c71c9858b\n",
      "Trying to apply to job\n",
      "https://www.dice.com/job-detail/d61f7998-de51-4b67-8e24-5fd58a8386ee?searchlink=search%2F%3Fq%3Dpython%2C%2520Data%2520Analyst%26countryCode%3DUS%26radius%3D30%26radiusUnit%3Dmi%26page%3D3%26pageSize%3D20%26filters.postedDate%3DONE%26filters.easyApply%3Dtrue%26filters.isRemote%3Dtrue%26language%3Den%26eid%3DS2Q_&searchId=1eb90fcb-a81e-493b-9617-9b2c71c9858b\n",
      "Trying to apply to job\n",
      "https://www.dice.com/job-detail/ebf26fc7-3e61-4968-9e32-6ec4137a725c?searchlink=search%2F%3Fq%3Dpython%2C%2520Data%2520Analyst%26countryCode%3DUS%26radius%3D30%26radiusUnit%3Dmi%26page%3D3%26pageSize%3D20%26filters.postedDate%3DONE%26filters.easyApply%3Dtrue%26filters.isRemote%3Dtrue%26language%3Den%26eid%3DS2Q_&searchId=1eb90fcb-a81e-493b-9617-9b2c71c9858b\n",
      "Trying to apply to job\n"
     ]
    }
   ],
   "source": [
    "for i in range(40):\n",
    "    Actualizar_links(driver)\n",
    "    df=pd.read_csv(\"pags_web.csv\")\n",
    "    for link in df[\"href\"]:\n",
    "        driver.get(link)\n",
    "        print(link)\n",
    "        Apply(driver,verbose=True)\n",
    "    \n",
    "    #Surprisingly this takes you to one page further\n",
    "    #If this were to break, the link itself allows you to filter and select the page\n",
    "    driver.get(\"https://www.dice.com/jobs\")\n",
    "    #Boring"
   ]
  }
 ],
 "metadata": {
  "kernelspec": {
   "display_name": "base",
   "language": "python",
   "name": "python3"
  },
  "language_info": {
   "codemirror_mode": {
    "name": "ipython",
    "version": 3
   },
   "file_extension": ".py",
   "mimetype": "text/x-python",
   "name": "python",
   "nbconvert_exporter": "python",
   "pygments_lexer": "ipython3",
   "version": "3.10.9"
  },
  "orig_nbformat": 4
 },
 "nbformat": 4,
 "nbformat_minor": 2
}
