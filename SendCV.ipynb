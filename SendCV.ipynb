{
 "cells": [
  {
   "cell_type": "code",
   "execution_count": 2,
   "metadata": {},
   "outputs": [],
   "source": [
    "from SendCV import *"
   ]
  },
  {
   "cell_type": "code",
   "execution_count": 3,
   "metadata": {},
   "outputs": [],
   "source": [
    "driver= Iniciar_driver()"
   ]
  },
  {
   "cell_type": "code",
   "execution_count": 4,
   "metadata": {},
   "outputs": [
    {
     "ename": "NameError",
     "evalue": "name 'driver' is not defined",
     "output_type": "error",
     "traceback": [
      "\u001b[1;31m---------------------------------------------------------------------------\u001b[0m",
      "\u001b[1;31mNameError\u001b[0m                                 Traceback (most recent call last)",
      "Cell \u001b[1;32mIn[4], line 1\u001b[0m\n\u001b[1;32m----> 1\u001b[0m Actualizar_links()\n",
      "File \u001b[1;32me:\\Job_scraping\\SendCV.py:151\u001b[0m, in \u001b[0;36mActualizar_links\u001b[1;34m()\u001b[0m\n\u001b[0;32m    149\u001b[0m pags_web\u001b[39m=\u001b[39m[]\n\u001b[0;32m    150\u001b[0m \u001b[39mfor\u001b[39;00m i \u001b[39min\u001b[39;00m \u001b[39mrange\u001b[39m(\u001b[39m2\u001b[39m):\n\u001b[1;32m--> 151\u001b[0m     \u001b[39mfor\u001b[39;00m elem \u001b[39min\u001b[39;00m driver\u001b[39m.\u001b[39mfind_elements(By\u001b[39m.\u001b[39mXPATH,\u001b[39m'\u001b[39m\u001b[39m//dhi-search-card[@data-cy=\u001b[39m\u001b[39m\"\u001b[39m\u001b[39msearch-card\u001b[39m\u001b[39m\"\u001b[39m\u001b[39m]\u001b[39m\u001b[39m'\u001b[39m):\n\u001b[0;32m    152\u001b[0m         \u001b[39mtry\u001b[39;00m:\n\u001b[0;32m    153\u001b[0m             No_se_ha_hecho\u001b[39m=\u001b[39melem\u001b[39m.\u001b[39mfind_element(By\u001b[39m.\u001b[39mXPATH,\u001b[39m'\u001b[39m\u001b[39m.//span[@class=\u001b[39m\u001b[39m\"\u001b[39m\u001b[39mribbon-inner\u001b[39m\u001b[39m\"\u001b[39m\u001b[39m]\u001b[39m\u001b[39m'\u001b[39m)\u001b[39m.\u001b[39mtext\u001b[39m!=\u001b[39m\u001b[39m\"\u001b[39m\u001b[39mapplied\u001b[39m\u001b[39m\"\u001b[39m\n",
      "\u001b[1;31mNameError\u001b[0m: name 'driver' is not defined"
     ]
    }
   ],
   "source": [
    "Actualizar_links(driver)"
   ]
  },
  {
   "cell_type": "code",
   "execution_count": null,
   "metadata": {},
   "outputs": [],
   "source": [
    "driver= Iniciar_driver()\n",
    "###\n",
    "#Actualizar_links()\n",
    "###\n",
    "df=pd.read_csv(\"pags_web.csv\")\n",
    "for link in df[\"href\"]:\n",
    "    driver.get(link)\n",
    "    Apply()"
   ]
  },
  {
   "cell_type": "code",
   "execution_count": 1,
   "metadata": {},
   "outputs": [],
   "source": [
    "from pickle import TRUE\n",
    "from bs4 import BeautifulSoup as bs\n",
    "import requests\n",
    "from time import sleep\n",
    "from random import random\n",
    "from lxml import html\n",
    "from math import ceil\n",
    "from bs4 import BeautifulSoup\n",
    "import sys\n",
    "import pandas as pd\n",
    "\n",
    "#from selenium.webdriver.chrome import options\n",
    "from selenium.webdriver.chrome.options import Options\n",
    "from selenium import webdriver\n",
    "from selenium.webdriver.common.by import By\n",
    "from selenium.webdriver.support import expected_conditions as EC\n",
    "from selenium.webdriver.support.ui import WebDriverWait\n",
    "from selenium.webdriver.chrome.webdriver import WebDriver\n",
    "from selenium.webdriver.common.keys import Keys\n",
    "from selenium.webdriver.common.action_chains import ActionChains\n",
    "from selenium.common.exceptions import NoSuchElementException, StaleElementReferenceException,TimeoutException,ElementNotInteractableException\n",
    "from fake_useragent import UserAgent\n",
    "from selenium_stealth import stealth\n",
    "from selenium import webdriver\n",
    "from selenium.webdriver.chrome.service import Service\n",
    "from webdriver_manager.chrome import ChromeDriverManager\n",
    "import pyautogui\n"
   ]
  },
  {
   "cell_type": "code",
   "execution_count": 2,
   "metadata": {},
   "outputs": [],
   "source": [
    "def Descansa():\n",
    "    x=random()*10\n",
    "    if x<1:\n",
    "        sleep(1)\n",
    "    elif x>5:\n",
    "        sleep(5)\n",
    "    else:\n",
    "        sleep(x)\n",
    "    return"
   ]
  },
  {
   "cell_type": "code",
   "execution_count": 3,
   "metadata": {},
   "outputs": [],
   "source": [
    "Info_df=pd.read_csv(\"password.txt\",sep=\"\\t\").set_index(\"Info\")\n",
    "User=Info_df.at[\"User\",\"Value\"]\n",
    "Password=Info_df.at[\"Password\",\"Value\"]"
   ]
  },
  {
   "cell_type": "code",
   "execution_count": 4,
   "metadata": {},
   "outputs": [],
   "source": [
    "#Funcion necesaria para acceder shadow elements\n",
    "def expand_shadow_element(driver,element):\n",
    "  shadow_root = driver.execute_script('return arguments[0].shadowRoot', element)\n",
    "  return shadow_root"
   ]
  },
  {
   "cell_type": "code",
   "execution_count": 7,
   "metadata": {},
   "outputs": [],
   "source": [
    "def Iniciar_driver(url=\"https://www.dice.com/dashboard/login\"):\n",
    "    options = webdriver.ChromeOptions()\n",
    "    options.add_argument(\"start-maximized\")\n",
    "\n",
    "    # options.add_argument(\"--headless\")\n",
    "    ua = UserAgent()\n",
    "    userAgent = ua.random\n",
    "    options.add_argument(f'user-agent={userAgent}')\n",
    "\n",
    "    options.add_experimental_option(\"excludeSwitches\", [\"enable-automation\"])\n",
    "    options.add_experimental_option('useAutomationExtension', False)\n",
    "\n",
    "    #These options are for the autofill and for the popup to keep the password\n",
    "    prefs = {\"credentials_enable_service\": False,\"profile.password_manager_enabled\": False}\n",
    "    options.add_experimental_option(\"prefs\", prefs)\n",
    "\n",
    "    s=Service(ChromeDriverManager().install())\n",
    "    driver = webdriver.Chrome(options=options,service=s)\n",
    "    driver.get(url)\n",
    "    #Ahora aceptaremos las cookies (para ello necesitamos acceder al shadow element (un pain in the ass))\n",
    "    sleep(5)\n",
    "    root=WebDriverWait(driver,10).until(\n",
    "        EC.presence_of_element_located((By.ID,\"cmpwrapper\"))\n",
    "    )\n",
    "    shadow_root=expand_shadow_element(driver,root)\n",
    "    shadow_root.find_element(By.ID,\"cmpbntyestxt\").click()\n",
    "\n",
    "    #Safety measure if you try to access a non dice page\n",
    "    if url!=\"https://www.dice.com/dashboard/login\":\n",
    "        return driver\n",
    "    #Ahora metemos los datos de login\n",
    "    WebDriverWait(driver,10).until(\n",
    "        EC.presence_of_element_located((By.ID,\"email\"))\n",
    "    ).send_keys(User)\n",
    "\n",
    "    WebDriverWait(driver,10).until(\n",
    "        EC.presence_of_element_located((By.ID,\"password\"))\n",
    "    ).send_keys(Password)\n",
    "    \n",
    "    #Pretty sure this is to click the sign in button\n",
    "    WebDriverWait(driver,10).until(\n",
    "        EC.element_to_be_clickable((By.XPATH,'//button[@class=\"btn btn-primary btn-lg btn-block\"]'))\n",
    "    ).click()\n",
    "\n",
    "\n",
    "    #Don´t know why this is here (I think it had to do with cookies)\n",
    "    #WebDriverWait(driver,20).until(\n",
    "    #    EC.presence_of_element_located((By.XPATH,'//div[@class=\"fe-popup-cross\"]'))\n",
    "    #)\n",
    "\n",
    "    WebDriverWait(driver,20).until(\n",
    "        EC.presence_of_element_located((By.XPATH,'//input[@id=\"typeaheadInput\"]'))\n",
    "    ).send_keys(\"python, Data scientist\\n\")\n",
    "\n",
    "    #Filtramos para solo remoto\n",
    "    WebDriverWait(driver,5).until(\n",
    "        EC.presence_of_element_located((By.XPATH,'//button[@aria-label=\"Filter Search Results by Remote Only\"]'))\n",
    "    ).click()\n",
    "    ####\n",
    "    #Tiene que esperar un rato para actualizar los trabajos\n",
    "    sleep(5)\n",
    "\n",
    "    return driver"
   ]
  },
  {
   "cell_type": "code",
   "execution_count": null,
   "metadata": {},
   "outputs": [],
   "source": [
    "def Next_page(driver):\n",
    "    WebDriverWait(driver,5).until(\n",
    "        EC.element_to_be_clickable((By.XPATH,'//li[@class=\"pagination-next page-item ng-star-inserted\"]'))\n",
    "    ).click()"
   ]
  },
  {
   "cell_type": "code",
   "execution_count": null,
   "metadata": {},
   "outputs": [],
   "source": [
    "def Apply():\n",
    "    sleep(5)\n",
    "    root=WebDriverWait(driver,10).until(\n",
    "        EC.presence_of_element_located((By.XPATH,'//div[@class=\"col-md-7 col-lg-6 hidden-sm hidden-xs applySec\"]//dhi-wc-apply-button'))#'//div[@class=\"hidden-lg hidden-md col-md-12 col-xs-12 applySec lowerApply\"]//dhi-wc-apply-button'))\n",
    "    )\n",
    "    shadow_root=expand_shadow_element(driver,root)\n",
    "\n",
    "    shadow_root=shadow_root.find_element(By.CLASS_NAME,\"button-primary\")\n",
    "    if shadow_root.text!=\"Applied\":\n",
    "        shadow_root.click()\n",
    "\n",
    "        sleep(20)\n",
    "        WebDriverWait(driver,10).until(\n",
    "            EC.element_to_be_clickable((By.XPATH,'//button[@class=\"btn btn-primary btn-next btn-block\"]'))\n",
    "        ).click()\n",
    "        try:\n",
    "            WebDriverWait(driver,10).until(\n",
    "                EC.element_to_be_clickable((By.XPATH,'//button[@class=\"btn btn-primary btn-next btn-block\"]'))\n",
    "            ).click()\n",
    "        except:\n",
    "            pass\n",
    "\n",
    "        #selenium.common.exceptions.TimeoutException: Message:  \n",
    "        WebDriverWait(driver,10).until(\n",
    "            EC.element_to_be_clickable((By.XPATH,'//button[@class=\"btn btn-primary btn-next btn-split\"]'))\n",
    "        ).click()"
   ]
  },
  {
   "cell_type": "code",
   "execution_count": 9,
   "metadata": {},
   "outputs": [
    {
     "name": "stdout",
     "output_type": "stream",
     "text": [
      "Holg2\n"
     ]
    }
   ],
   "source": [
    "driver=Iniciar_driver()"
   ]
  },
  {
   "cell_type": "code",
   "execution_count": null,
   "metadata": {},
   "outputs": [],
   "source": []
  }
 ],
 "metadata": {
  "kernelspec": {
   "display_name": "base",
   "language": "python",
   "name": "python3"
  },
  "language_info": {
   "codemirror_mode": {
    "name": "ipython",
    "version": 3
   },
   "file_extension": ".py",
   "mimetype": "text/x-python",
   "name": "python",
   "nbconvert_exporter": "python",
   "pygments_lexer": "ipython3",
   "version": "3.10.9"
  },
  "orig_nbformat": 4
 },
 "nbformat": 4,
 "nbformat_minor": 2
}
