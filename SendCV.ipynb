{
 "cells": [
  {
   "cell_type": "code",
   "execution_count": 1,
   "metadata": {},
   "outputs": [],
   "source": [
    "from SendCV import *"
   ]
  },
  {
   "cell_type": "code",
   "execution_count": 2,
   "metadata": {},
   "outputs": [],
   "source": []
  },
  {
   "cell_type": "code",
   "execution_count": 2,
   "metadata": {},
   "outputs": [],
   "source": [
    "driver= Iniciar_driver(publicado_hoy=True,trabajo_a_buscar=\"python, Data Analyst\")"
   ]
  },
  {
   "cell_type": "code",
   "execution_count": 3,
   "metadata": {},
   "outputs": [],
   "source": [
    "Actualizar_links(driver)"
   ]
  },
  {
   "cell_type": "code",
   "execution_count": null,
   "metadata": {},
   "outputs": [
    {
     "name": "stdout",
     "output_type": "stream",
     "text": [
      "https://www.dice.com/job-detail/acb842a5-03ea-4ddf-bca7-438a39040b95?searchlink=search%2F%3Fq%3Dpython%2C%2520Data%2520scientist%26countryCode%3DUS%26radius%3D30%26radiusUnit%3Dmi%26page%3D3%26pageSize%3D20%26filters.postedDate%3DSEVEN%26filters.easyApply%3Dtrue%26filters.isRemote%3Dtrue%26language%3Den%26eid%3DS2Q_&searchId=5d14398a-da09-40e5-969a-8dd1cce348bc\n",
      "Trying to apply to job\n",
      "https://www.dice.com/job-detail/29781a87-abb6-449b-9ad6-ca090d5849a0?searchlink=search%2F%3Fq%3Dpython%2C%2520Data%2520scientist%26countryCode%3DUS%26radius%3D30%26radiusUnit%3Dmi%26page%3D3%26pageSize%3D20%26filters.postedDate%3DSEVEN%26filters.easyApply%3Dtrue%26filters.isRemote%3Dtrue%26language%3Den%26eid%3DS2Q_&searchId=5d14398a-da09-40e5-969a-8dd1cce348bc\n",
      "Trying to apply to job\n",
      "Already Applied\n",
      "https://www.dice.com/job-detail/e5506f30-475c-4f6e-b4f9-43353cb9e599?searchlink=search%2F%3Fq%3Dpython%2C%2520Data%2520scientist%26countryCode%3DUS%26radius%3D30%26radiusUnit%3Dmi%26page%3D3%26pageSize%3D20%26filters.postedDate%3DSEVEN%26filters.easyApply%3Dtrue%26filters.isRemote%3Dtrue%26language%3Den%26eid%3DS2Q_&searchId=5d14398a-da09-40e5-969a-8dd1cce348bc\n",
      "Trying to apply to job\n",
      "Already Applied\n",
      "https://www.dice.com/job-detail/48e0547f-b4b9-4244-b338-a3de21ac6898?searchlink=search%2F%3Fq%3Dpython%2C%2520Data%2520scientist%26countryCode%3DUS%26radius%3D30%26radiusUnit%3Dmi%26page%3D3%26pageSize%3D20%26filters.postedDate%3DSEVEN%26filters.easyApply%3Dtrue%26filters.isRemote%3Dtrue%26language%3Den%26eid%3DS2Q_&searchId=5d14398a-da09-40e5-969a-8dd1cce348bc\n",
      "Trying to apply to job\n",
      "Already Applied\n",
      "https://www.dice.com/job-detail/d95b5646-a211-4d5f-8ebd-0d34c66688a3?searchlink=search%2F%3Fq%3Dpython%2C%2520Data%2520scientist%26countryCode%3DUS%26radius%3D30%26radiusUnit%3Dmi%26page%3D3%26pageSize%3D20%26filters.postedDate%3DSEVEN%26filters.easyApply%3Dtrue%26filters.isRemote%3Dtrue%26language%3Den%26eid%3DS2Q_&searchId=5d14398a-da09-40e5-969a-8dd1cce348bc\n",
      "Trying to apply to job\n",
      "Already Applied\n",
      "https://www.dice.com/job-detail/e689e0ee-9005-44a2-894f-244719e338a5?searchlink=search%2F%3Fq%3Dpython%2C%2520Data%2520scientist%26countryCode%3DUS%26radius%3D30%26radiusUnit%3Dmi%26page%3D3%26pageSize%3D20%26filters.postedDate%3DSEVEN%26filters.easyApply%3Dtrue%26filters.isRemote%3Dtrue%26language%3Den%26eid%3DS2Q_&searchId=5d14398a-da09-40e5-969a-8dd1cce348bc\n",
      "Trying to apply to job\n",
      "Already Applied\n",
      "https://www.dice.com/job-detail/d4526f61-1c9f-44b5-810f-637a52099582?searchlink=search%2F%3Fq%3Dpython%2C%2520Data%2520scientist%26countryCode%3DUS%26radius%3D30%26radiusUnit%3Dmi%26page%3D3%26pageSize%3D20%26filters.postedDate%3DSEVEN%26filters.easyApply%3Dtrue%26filters.isRemote%3Dtrue%26language%3Den%26eid%3DS2Q_&searchId=5d14398a-da09-40e5-969a-8dd1cce348bc\n",
      "Trying to apply to job\n",
      "Already Applied\n",
      "https://www.dice.com/job-detail/c2b476d6-427a-49ff-bbcc-4bbc4c3d910a?searchlink=search%2F%3Fq%3Dpython%2C%2520Data%2520scientist%26countryCode%3DUS%26radius%3D30%26radiusUnit%3Dmi%26page%3D3%26pageSize%3D20%26filters.postedDate%3DSEVEN%26filters.easyApply%3Dtrue%26filters.isRemote%3Dtrue%26language%3Den%26eid%3DS2Q_&searchId=5d14398a-da09-40e5-969a-8dd1cce348bc\n",
      "Trying to apply to job\n",
      "Already Applied\n",
      "https://www.dice.com/job-detail/dd1c15c3-d159-44fe-8c32-3c8d14d8e595?searchlink=search%2F%3Fq%3Dpython%2C%2520Data%2520scientist%26countryCode%3DUS%26radius%3D30%26radiusUnit%3Dmi%26page%3D3%26pageSize%3D20%26filters.postedDate%3DSEVEN%26filters.easyApply%3Dtrue%26filters.isRemote%3Dtrue%26language%3Den%26eid%3DS2Q_&searchId=5d14398a-da09-40e5-969a-8dd1cce348bc\n",
      "Trying to apply to job\n",
      "Already Applied\n",
      "https://www.dice.com/job-detail/42fa16aa-4a94-4c26-9227-3b079fda7e7d?searchlink=search%2F%3Fq%3Dpython%2C%2520Data%2520scientist%26countryCode%3DUS%26radius%3D30%26radiusUnit%3Dmi%26page%3D3%26pageSize%3D20%26filters.postedDate%3DSEVEN%26filters.easyApply%3Dtrue%26filters.isRemote%3Dtrue%26language%3Den%26eid%3DS2Q_&searchId=5d14398a-da09-40e5-969a-8dd1cce348bc\n",
      "Trying to apply to job\n",
      "Application Questions\n",
      "Yes\n",
      "No\n",
      "https://www.dice.com/job-detail/a51161be-b804-4011-850d-f886d8185bd8?searchlink=search%2F%3Fq%3Dpython%2C%2520Data%2520scientist%26countryCode%3DUS%26radius%3D30%26radiusUnit%3Dmi%26page%3D3%26pageSize%3D20%26filters.postedDate%3DSEVEN%26filters.easyApply%3Dtrue%26filters.isRemote%3Dtrue%26language%3Den%26eid%3DS2Q_&searchId=5d14398a-da09-40e5-969a-8dd1cce348bc\n",
      "Trying to apply to job\n",
      "Already Applied\n",
      "https://www.dice.com/job-detail/49f5d0a8-e486-48de-8f3c-2efceddc8a9f?searchlink=search%2F%3Fq%3Dpython%2C%2520Data%2520scientist%26countryCode%3DUS%26radius%3D30%26radiusUnit%3Dmi%26page%3D3%26pageSize%3D20%26filters.postedDate%3DSEVEN%26filters.easyApply%3Dtrue%26filters.isRemote%3Dtrue%26language%3Den%26eid%3DS2Q_&searchId=5d14398a-da09-40e5-969a-8dd1cce348bc\n",
      "Trying to apply to job\n",
      "https://www.dice.com/job-detail/68b4e91a-540a-4629-ae19-97280319df24?searchlink=search%2F%3Fq%3Dpython%2C%2520Data%2520scientist%26countryCode%3DUS%26radius%3D30%26radiusUnit%3Dmi%26page%3D3%26pageSize%3D20%26filters.postedDate%3DSEVEN%26filters.easyApply%3Dtrue%26filters.isRemote%3Dtrue%26language%3Den%26eid%3DS2Q_&searchId=5d14398a-da09-40e5-969a-8dd1cce348bc\n",
      "Trying to apply to job\n",
      "Already Applied\n",
      "https://www.dice.com/job-detail/42c76f68-f2e4-4b29-bb52-23caca895f54?searchlink=search%2F%3Fq%3Dpython%2C%2520Data%2520scientist%26countryCode%3DUS%26radius%3D30%26radiusUnit%3Dmi%26page%3D3%26pageSize%3D20%26filters.postedDate%3DSEVEN%26filters.easyApply%3Dtrue%26filters.isRemote%3Dtrue%26language%3Den%26eid%3DS2Q_&searchId=5d14398a-da09-40e5-969a-8dd1cce348bc\n",
      "Trying to apply to job\n",
      "Already Applied\n",
      "https://www.dice.com/job-detail/b118c68d-7291-47f1-82a6-bc648eb1735c?searchlink=search%2F%3Fq%3Dpython%2C%2520Data%2520scientist%26countryCode%3DUS%26radius%3D30%26radiusUnit%3Dmi%26page%3D3%26pageSize%3D20%26filters.postedDate%3DSEVEN%26filters.easyApply%3Dtrue%26filters.isRemote%3Dtrue%26language%3Den%26eid%3DS2Q_&searchId=5d14398a-da09-40e5-969a-8dd1cce348bc\n",
      "Trying to apply to job\n",
      "Already Applied\n",
      "https://www.dice.com/job-detail/2d9a6e01-7028-43bd-b56f-5ea9c471e9bf?searchlink=search%2F%3Fq%3Dpython%2C%2520Data%2520scientist%26countryCode%3DUS%26radius%3D30%26radiusUnit%3Dmi%26page%3D3%26pageSize%3D20%26filters.postedDate%3DSEVEN%26filters.easyApply%3Dtrue%26filters.isRemote%3Dtrue%26language%3Den%26eid%3DS2Q_&searchId=5d14398a-da09-40e5-969a-8dd1cce348bc\n",
      "Trying to apply to job\n",
      "Already Applied\n",
      "https://www.dice.com/job-detail/b414f1a5-20ab-4d0c-8722-cbc46ed227b5?searchlink=search%2F%3Fq%3Dpython%2C%2520Data%2520scientist%26countryCode%3DUS%26radius%3D30%26radiusUnit%3Dmi%26page%3D3%26pageSize%3D20%26filters.postedDate%3DSEVEN%26filters.easyApply%3Dtrue%26filters.isRemote%3Dtrue%26language%3Den%26eid%3DS2Q_&searchId=5d14398a-da09-40e5-969a-8dd1cce348bc\n",
      "Trying to apply to job\n"
     ]
    },
    {
     "ename": "KeyboardInterrupt",
     "evalue": "",
     "output_type": "error",
     "traceback": [
      "\u001b[1;31m---------------------------------------------------------------------------\u001b[0m\n",
      "\u001b[1;31mKeyboardInterrupt\u001b[0m                         Traceback (most recent call last)\n",
      "Cell \u001b[1;32mIn[4], line 7\u001b[0m\n",
      "\u001b[0;32m      5\u001b[0m     driver\u001b[39m.\u001b[39mget(link)\n",
      "\u001b[0;32m      6\u001b[0m     \u001b[39mprint\u001b[39m(link)\n",
      "\u001b[1;32m----> 7\u001b[0m     Apply(driver,verbose\u001b[39m=\u001b[39;49m\u001b[39mTrue\u001b[39;49;00m)\n",
      "\u001b[0;32m      8\u001b[0m driver\u001b[39m.\u001b[39mget(\u001b[39m\"\u001b[39m\u001b[39mhttps://www.dice.com/jobs\u001b[39m\u001b[39m\"\u001b[39m)\n",
      "\n",
      "File \u001b[1;32me:\\Job_scraping\\SendCV.py:175\u001b[0m, in \u001b[0;36mApply\u001b[1;34m(driver, verbose)\u001b[0m\n",
      "\u001b[0;32m    170\u001b[0m Button\u001b[39m=\u001b[39mWebDriverWait(driver,WAIT_TIME)\u001b[39m.\u001b[39muntil(\n",
      "\u001b[0;32m    171\u001b[0m         EC\u001b[39m.\u001b[39melement_to_be_clickable((By\u001b[39m.\u001b[39mXPATH,\u001b[39m'\u001b[39m\u001b[39m//apply-button-wc\u001b[39m\u001b[39m'\u001b[39m))\n",
      "\u001b[0;32m    172\u001b[0m     )\n",
      "\u001b[0;32m    173\u001b[0m \u001b[39m#La página siempre empieza con un botón de apply, pero tarda en decidir si va a poner application submitted\u001b[39;00m\n",
      "\u001b[0;32m    174\u001b[0m \u001b[39m#Por este motivo, es importante esperar para que se decida (gato de schrodinger)\u001b[39;00m\n",
      "\u001b[1;32m--> 175\u001b[0m sleep(\u001b[39m5\u001b[39;49m)\n",
      "\u001b[0;32m    177\u001b[0m \u001b[39mif\u001b[39;00m \u001b[39m\"\u001b[39m\u001b[39mApplication Submitted\u001b[39m\u001b[39m\"\u001b[39m \u001b[39min\u001b[39;00m Button\u001b[39m.\u001b[39mtext:\n",
      "\u001b[0;32m    178\u001b[0m     \u001b[39mif\u001b[39;00m verbose:\n",
      "\n",
      "\u001b[1;31mKeyboardInterrupt\u001b[0m: "
     ]
    }
   ],
   "source": [
    "for i in range(40):\n",
    "    Actualizar_links(driver)\n",
    "    df=pd.read_csv(\"pags_web.csv\")\n",
    "    for link in df[\"href\"]:\n",
    "        driver.get(link)\n",
    "        print(link)\n",
    "        Apply(driver,verbose=True)\n",
    "    driver.get(\"https://www.dice.com/jobs\")"
   ]
  },
  {
   "cell_type": "code",
   "execution_count": null,
   "metadata": {},
   "outputs": [],
   "source": []
  },
  {
   "cell_type": "code",
   "execution_count": null,
   "metadata": {},
   "outputs": [],
   "source": [
    "def Es_EasyApply(driver):\n",
    "    \"\"\"Miramos en la info de la página si es easy apply o no\"\"\"\n",
    "    texto=driver.find_elements(By.XPATH,'//*[@id=\"__NEXT_DATA__\"]')[0].get_attribute('innerHTML')\n",
    "    index=texto.find(\"easyApply\")\n",
    "    texto=texto[index:]\n",
    "    index2=texto.find(\",\")\n",
    "    texto=texto[:index2]\n",
    "\n",
    "    if texto.split(\":\")[1]==\"true\":\n",
    "        return True\n",
    "    elif texto.split(\":\")[1]==\"false\":\n",
    "        return False\n",
    "    else:\n",
    "        print(\"ALGO HA IDO MAL MIRANDO SI ES EASY APPLY\")\n",
    "        return False"
   ]
  },
  {
   "cell_type": "code",
   "execution_count": null,
   "metadata": {},
   "outputs": [],
   "source": [
    "def close_tab(driver):\n",
    "    \"\"\"Closes the current tab and creates an empty tab\"\"\"\n",
    "    # Disable the \"Leave site?\" pop-up\n",
    "    driver.execute_script(\"window.onbeforeunload = null;\")\n",
    "    \n",
    "    driver.execute_script(\"window.open('', '_blank');\")\n",
    "    driver.switch_to.window(driver.window_handles[0])\n",
    "    driver.close()\n",
    "    driver.switch_to.window(driver.window_handles[0])"
   ]
  },
  {
   "cell_type": "code",
   "execution_count": null,
   "metadata": {},
   "outputs": [],
   "source": [
    "def Apply2(driver,verbose=False):\n",
    "    if verbose:\n",
    "        print(\"Trying to apply to job\")\n",
    "\n",
    "    if not Es_EasyApply(driver):\n",
    "        if verbose:\n",
    "            print(\"Not Easy Apply\")\n",
    "        return\n",
    "\n",
    "\n",
    "    Button=WebDriverWait(driver,WAIT_TIME).until(\n",
    "            EC.element_to_be_clickable((By.XPATH,'//apply-button-wc'))\n",
    "        )\n",
    "    #La página siempre empieza con un botón de apply, pero tarda en decidir si va a poner application submitted\n",
    "    #Por este motivo, es importante esperar para que se decida (gato de schrodinger)\n",
    "    sleep(5)\n",
    "    \n",
    "    if \"Application Submitted\" in Button.text:\n",
    "        if verbose:\n",
    "            print(\"Already Applied\")\n",
    "        return\n",
    "\n",
    "    Button.click()\n",
    "    Descansa()\n",
    "\n",
    "    #The next button\n",
    "    WebDriverWait(driver,WAIT_TIME).until(\n",
    "            EC.element_to_be_clickable((By.XPATH,'//button[@class=\"btn btn-primary btn-next btn-block\"]'))\n",
    "        ).click()\n",
    "\n",
    "    Descansa()\n",
    "    #We´re gonna check if there are questions\n",
    "    Header=WebDriverWait(driver,WAIT_TIME).until(\n",
    "            EC.element_to_be_clickable((By.XPATH,'//dhi-seds-typography-heading'))\n",
    "        ).text\n",
    "    Descansa()\n",
    "\n",
    "    #If there are questions we´re gonna RUUUUN\n",
    "    if \"Application Questions\" in Header:\n",
    "        if verbose:\n",
    "            print(\"Application Questions\")\n",
    "\n",
    "            #Maybe in the future I might save them or I might connect it to an LLM\n",
    "            Questions=WebDriverWait(driver, 10).until(\n",
    "                EC.visibility_of_all_elements_located((By.XPATH, '//div[@class=\"screeners-wrapper\"]//label'))\n",
    "            )\n",
    "            for i in range(len(Questions)):\n",
    "                print(Questions[i].text)\n",
    "        \n",
    "        close_tab(driver)\n",
    "\n",
    "\n",
    "        return\n",
    "    \n",
    "    #The send button\n",
    "    WebDriverWait(driver,WAIT_TIME).until(\n",
    "            EC.element_to_be_clickable((By.XPATH,'//button[@class=\"btn btn-primary btn-next btn-split\"]'))\n",
    "        ).click()\n",
    "    Descansa()"
   ]
  },
  {
   "cell_type": "code",
   "execution_count": 10,
   "metadata": {},
   "outputs": [
    {
     "data": {
      "text/plain": [
       "'https://www.dice.com/jobs?q=python,%20Data%20scientist&countryCode=US&radius=30&radiusUnit=mi&page=42&pageSize=20&filters.isRemote=true&language=en&eid=S2Q_'"
      ]
     },
     "execution_count": 10,
     "metadata": {},
     "output_type": "execute_result"
    }
   ],
   "source": [
    "driver.current_url"
   ]
  },
  {
   "cell_type": "code",
   "execution_count": 23,
   "metadata": {},
   "outputs": [],
   "source": [
    "Easy_apply_header=WebDriverWait(driver,WAIT_TIME).until(\n",
    "            EC.element_to_be_clickable((By.XPATH,'//div[@class=\"facet-group-header ng-tns-c71-9\"]'))\n",
    "        )\n",
    "if Easy_apply_header.get_attribute(\"data-cy-accordion-is-expanded\")==\"false\":\n",
    "    Easy_apply_header.click()"
   ]
  },
  {
   "cell_type": "code",
   "execution_count": 26,
   "metadata": {},
   "outputs": [],
   "source": []
  },
  {
   "cell_type": "code",
   "execution_count": 19,
   "metadata": {},
   "outputs": [
    {
     "data": {
      "text/plain": [
       "'false'"
      ]
     },
     "execution_count": 19,
     "metadata": {},
     "output_type": "execute_result"
    }
   ],
   "source": [
    "Header"
   ]
  },
  {
   "cell_type": "code",
   "execution_count": 22,
   "metadata": {},
   "outputs": [],
   "source": [
    "WebDriverWait(driver,WAIT_TIME).until(\n",
    "            EC.element_to_be_clickable((By.XPATH,'//div[@class=\"facet-group-header ng-tns-c71-9\"]'))\n",
    "        ).click()"
   ]
  },
  {
   "cell_type": "code",
   "execution_count": null,
   "metadata": {},
   "outputs": [],
   "source": []
  }
 ],
 "metadata": {
  "kernelspec": {
   "display_name": "base",
   "language": "python",
   "name": "python3"
  },
  "language_info": {
   "codemirror_mode": {
    "name": "ipython",
    "version": 3
   },
   "file_extension": ".py",
   "mimetype": "text/x-python",
   "name": "python",
   "nbconvert_exporter": "python",
   "pygments_lexer": "ipython3",
   "version": "3.10.9"
  },
  "orig_nbformat": 4
 },
 "nbformat": 4,
 "nbformat_minor": 2
}
