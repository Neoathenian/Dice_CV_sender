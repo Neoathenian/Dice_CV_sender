{
 "cells": [
  {
   "cell_type": "code",
   "execution_count": 3,
   "metadata": {},
   "outputs": [],
   "source": [
    "from SendCV import *"
   ]
  },
  {
   "cell_type": "code",
   "execution_count": 4,
   "metadata": {},
   "outputs": [],
   "source": [
    "driver= Iniciar_driver(publicado_hoy=True,trabajo_a_buscar=\"python, Data Analyst\")"
   ]
  },
  {
   "cell_type": "code",
   "execution_count": 5,
   "metadata": {},
   "outputs": [],
   "source": [
    "Actualizar_links(driver)"
   ]
  },
  {
   "cell_type": "code",
   "execution_count": 6,
   "metadata": {},
   "outputs": [
    {
     "name": "stdout",
     "output_type": "stream",
     "text": [
      "https://www.dice.com/job-detail/3829d722-455b-48ad-bbe2-a85a85147109?searchlink=search%2F%3Fq%3Dpython%2C%2520Data%2520Analyst%26countryCode%3DUS%26radius%3D30%26radiusUnit%3Dmi%26page%3D1%26pageSize%3D20%26filters.postedDate%3DONE%26filters.easyApply%3Dtrue%26filters.isRemote%3Dtrue%26language%3Den%26eid%3DS2Q_&searchId=886de10a-6135-48f3-9d3c-54e548a467ce\n",
      "Trying to apply to job\n",
      "https://www.dice.com/job-detail/c72beab5-476e-4755-9b1d-58c8c9a1b8b6?searchlink=search%2F%3Fq%3Dpython%2C%2520Data%2520Analyst%26countryCode%3DUS%26radius%3D30%26radiusUnit%3Dmi%26page%3D1%26pageSize%3D20%26filters.postedDate%3DONE%26filters.easyApply%3Dtrue%26filters.isRemote%3Dtrue%26language%3Den%26eid%3DS2Q_&searchId=886de10a-6135-48f3-9d3c-54e548a467ce\n",
      "Trying to apply to job\n",
      "https://www.dice.com/job-detail/016c18f1-11d8-4b12-bed4-9093f7577c8e?searchlink=search%2F%3Fq%3Dpython%2C%2520Data%2520Analyst%26countryCode%3DUS%26radius%3D30%26radiusUnit%3Dmi%26page%3D1%26pageSize%3D20%26filters.postedDate%3DONE%26filters.easyApply%3Dtrue%26filters.isRemote%3Dtrue%26language%3Den%26eid%3DS2Q_&searchId=886de10a-6135-48f3-9d3c-54e548a467ce\n",
      "Trying to apply to job\n",
      "https://www.dice.com/job-detail/686d4b94-12b1-47ea-ab9b-6d053d718fb4?searchlink=search%2F%3Fq%3Dpython%2C%2520Data%2520Analyst%26countryCode%3DUS%26radius%3D30%26radiusUnit%3Dmi%26page%3D1%26pageSize%3D20%26filters.postedDate%3DONE%26filters.easyApply%3Dtrue%26filters.isRemote%3Dtrue%26language%3Den%26eid%3DS2Q_&searchId=886de10a-6135-48f3-9d3c-54e548a467ce\n",
      "Trying to apply to job\n",
      "https://www.dice.com/job-detail/5480f870-f66c-45d0-adee-fc953fbb8ac7?searchlink=search%2F%3Fq%3Dpython%2C%2520Data%2520Analyst%26countryCode%3DUS%26radius%3D30%26radiusUnit%3Dmi%26page%3D1%26pageSize%3D20%26filters.postedDate%3DONE%26filters.easyApply%3Dtrue%26filters.isRemote%3Dtrue%26language%3Den%26eid%3DS2Q_&searchId=886de10a-6135-48f3-9d3c-54e548a467ce\n",
      "Trying to apply to job\n",
      "https://www.dice.com/job-detail/a9ec4b18-1ae6-4fbb-b82d-be50de6cd9f9?searchlink=search%2F%3Fq%3Dpython%2C%2520Data%2520Analyst%26countryCode%3DUS%26radius%3D30%26radiusUnit%3Dmi%26page%3D1%26pageSize%3D20%26filters.postedDate%3DONE%26filters.easyApply%3Dtrue%26filters.isRemote%3Dtrue%26language%3Den%26eid%3DS2Q_&searchId=886de10a-6135-48f3-9d3c-54e548a467ce\n",
      "Trying to apply to job\n",
      "https://www.dice.com/job-detail/18970555-ee15-485a-94f2-33f855068788?searchlink=search%2F%3Fq%3Dpython%2C%2520Data%2520Analyst%26countryCode%3DUS%26radius%3D30%26radiusUnit%3Dmi%26page%3D1%26pageSize%3D20%26filters.postedDate%3DONE%26filters.easyApply%3Dtrue%26filters.isRemote%3Dtrue%26language%3Den%26eid%3DS2Q_&searchId=886de10a-6135-48f3-9d3c-54e548a467ce\n",
      "Trying to apply to job\n",
      "https://www.dice.com/job-detail/86cd9cd0-98ba-4580-a79a-291539747b19?searchlink=search%2F%3Fq%3Dpython%2C%2520Data%2520Analyst%26countryCode%3DUS%26radius%3D30%26radiusUnit%3Dmi%26page%3D1%26pageSize%3D20%26filters.postedDate%3DONE%26filters.easyApply%3Dtrue%26filters.isRemote%3Dtrue%26language%3Den%26eid%3DS2Q_&searchId=886de10a-6135-48f3-9d3c-54e548a467ce\n",
      "Trying to apply to job\n",
      "https://www.dice.com/job-detail/8f83c0c0-ca77-4df2-9e5e-a0becc7c82b8?searchlink=search%2F%3Fq%3Dpython%2C%2520Data%2520Analyst%26countryCode%3DUS%26radius%3D30%26radiusUnit%3Dmi%26page%3D1%26pageSize%3D20%26filters.postedDate%3DONE%26filters.easyApply%3Dtrue%26filters.isRemote%3Dtrue%26language%3Den%26eid%3DS2Q_&searchId=886de10a-6135-48f3-9d3c-54e548a467ce\n",
      "Trying to apply to job\n",
      "https://www.dice.com/job-detail/721f1803-fd0d-4905-b3fe-fbea7187d531?searchlink=search%2F%3Fq%3Dpython%2C%2520Data%2520Analyst%26countryCode%3DUS%26radius%3D30%26radiusUnit%3Dmi%26page%3D1%26pageSize%3D20%26filters.postedDate%3DONE%26filters.easyApply%3Dtrue%26filters.isRemote%3Dtrue%26language%3Den%26eid%3DS2Q_&searchId=886de10a-6135-48f3-9d3c-54e548a467ce\n",
      "Trying to apply to job\n",
      "https://www.dice.com/job-detail/53bf1d8f-e3fb-4279-8075-974a279dc644?searchlink=search%2F%3Fq%3Dpython%2C%2520Data%2520Analyst%26countryCode%3DUS%26radius%3D30%26radiusUnit%3Dmi%26page%3D1%26pageSize%3D20%26filters.postedDate%3DONE%26filters.easyApply%3Dtrue%26filters.isRemote%3Dtrue%26language%3Den%26eid%3DS2Q_&searchId=886de10a-6135-48f3-9d3c-54e548a467ce\n",
      "Trying to apply to job\n",
      "Application Questions\n",
      "City, State and Zipcode of Candidate\n",
      "Visa Status\n",
      "Linkedin ID\n",
      "https://www.dice.com/job-detail/ad1983f4-5af2-4f85-8d40-f04dcf23bb05?searchlink=search%2F%3Fq%3Dpython%2C%2520Data%2520Analyst%26countryCode%3DUS%26radius%3D30%26radiusUnit%3Dmi%26page%3D1%26pageSize%3D20%26filters.postedDate%3DONE%26filters.easyApply%3Dtrue%26filters.isRemote%3Dtrue%26language%3Den%26eid%3DS2Q_&searchId=886de10a-6135-48f3-9d3c-54e548a467ce\n",
      "Trying to apply to job\n",
      "https://www.dice.com/job-detail/8f082a51-a451-4ddb-b57c-e5bdf57e9b67?searchlink=search%2F%3Fq%3Dpython%2C%2520Data%2520Analyst%26countryCode%3DUS%26radius%3D30%26radiusUnit%3Dmi%26page%3D1%26pageSize%3D20%26filters.postedDate%3DONE%26filters.easyApply%3Dtrue%26filters.isRemote%3Dtrue%26language%3Den%26eid%3DS2Q_&searchId=886de10a-6135-48f3-9d3c-54e548a467ce\n",
      "Trying to apply to job\n",
      "https://www.dice.com/job-detail/eb64b19e-ab01-4516-be45-df0e7df495b9?searchlink=search%2F%3Fq%3Dpython%2C%2520Data%2520Analyst%26countryCode%3DUS%26radius%3D30%26radiusUnit%3Dmi%26page%3D1%26pageSize%3D20%26filters.postedDate%3DONE%26filters.easyApply%3Dtrue%26filters.isRemote%3Dtrue%26language%3Den%26eid%3DS2Q_&searchId=886de10a-6135-48f3-9d3c-54e548a467ce\n",
      "Trying to apply to job\n",
      "https://www.dice.com/job-detail/9b4e0949-fff3-4257-9321-95bff38c7912?searchlink=search%2F%3Fq%3Dpython%2C%2520Data%2520Analyst%26countryCode%3DUS%26radius%3D30%26radiusUnit%3Dmi%26page%3D1%26pageSize%3D20%26filters.postedDate%3DONE%26filters.easyApply%3Dtrue%26filters.isRemote%3Dtrue%26language%3Den%26eid%3DS2Q_&searchId=886de10a-6135-48f3-9d3c-54e548a467ce\n",
      "Trying to apply to job\n",
      "https://www.dice.com/job-detail/ca86ca54-c613-47ef-831f-78c30a0dcd3a?searchlink=search%2F%3Fq%3Dpython%2C%2520Data%2520Analyst%26countryCode%3DUS%26radius%3D30%26radiusUnit%3Dmi%26page%3D1%26pageSize%3D20%26filters.postedDate%3DONE%26filters.easyApply%3Dtrue%26filters.isRemote%3Dtrue%26language%3Den%26eid%3DS2Q_&searchId=886de10a-6135-48f3-9d3c-54e548a467ce\n",
      "Trying to apply to job\n",
      "https://www.dice.com/job-detail/d1f156a1-322f-4fc3-a9e1-3f6b627ac212?searchlink=search%2F%3Fq%3Dpython%2C%2520Data%2520Analyst%26countryCode%3DUS%26radius%3D30%26radiusUnit%3Dmi%26page%3D1%26pageSize%3D20%26filters.postedDate%3DONE%26filters.easyApply%3Dtrue%26filters.isRemote%3Dtrue%26language%3Den%26eid%3DS2Q_&searchId=886de10a-6135-48f3-9d3c-54e548a467ce\n",
      "Trying to apply to job\n",
      "https://www.dice.com/job-detail/f3f96424-1030-4dc8-bd60-744bb00d2715?searchlink=search%2F%3Fq%3Dpython%2C%2520Data%2520Analyst%26countryCode%3DUS%26radius%3D30%26radiusUnit%3Dmi%26page%3D1%26pageSize%3D20%26filters.postedDate%3DONE%26filters.easyApply%3Dtrue%26filters.isRemote%3Dtrue%26language%3Den%26eid%3DS2Q_&searchId=886de10a-6135-48f3-9d3c-54e548a467ce\n",
      "Trying to apply to job\n",
      "Nuevas aplicaciones:  17\n"
     ]
    }
   ],
   "source": [
    "nuevas_aplicaciones=0\n",
    "for i in range(40):\n",
    "    Actualizar_links(driver)\n",
    "    df=pd.read_csv(\"pags_web.csv\")\n",
    "    for link in df[\"href\"]:\n",
    "        driver.get(link)\n",
    "        print(link)\n",
    "        nuevas_aplicaciones+=Apply(driver,verbose=True)\n",
    "    \n",
    "    #Surprisingly this takes you to one page further\n",
    "    #If this were to break, the link itself allows you to filter and select the page\n",
    "    driver.get(\"https://www.dice.com/jobs\")\n",
    "    #Boring\n",
    "\n",
    "print(\"Nuevas aplicaciones: \",nuevas_aplicaciones)"
   ]
  },
  {
   "cell_type": "code",
   "execution_count": null,
   "metadata": {},
   "outputs": [],
   "source": []
  }
 ],
 "metadata": {
  "kernelspec": {
   "display_name": "base",
   "language": "python",
   "name": "python3"
  },
  "language_info": {
   "codemirror_mode": {
    "name": "ipython",
    "version": 3
   },
   "file_extension": ".py",
   "mimetype": "text/x-python",
   "name": "python",
   "nbconvert_exporter": "python",
   "pygments_lexer": "ipython3",
   "version": "3.10.9"
  },
  "orig_nbformat": 4
 },
 "nbformat": 4,
 "nbformat_minor": 2
}
